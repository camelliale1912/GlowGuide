{
  "cells": [
    {
      "cell_type": "markdown",
      "metadata": {
        "id": "Oqi5bch2ta6h"
      },
      "source": [
        "# Glow Guide"
      ]
    },
    {
      "cell_type": "markdown",
      "metadata": {
        "id": "UriDpuKaUA-b"
      },
      "source": [
        "This project is a *skincare* product recommendation system based on the facial problems experienced.\n",
        "This dataset was scrapped by me from Sephora US with details :\n",
        "\n",
        "| Feature Name | Description |\n",
        "| --- | --- |\n",
        "|**product_href** | Product URL link |\n",
        "|**product_name** | Product name |\n",
        "|**product_type** |Type of product |\n",
        "|**brand** | Product brand |\n",
        "|**notable_effects** | What it's good for |\n",
        "|**skin_type** | The suitable type of skin for the product (Normal, Dry, Oily, Combination) |\n",
        "|**price** | Product price (in USD) |\n",
        "|**description** | Product description |"
      ]
    },
    {
      "cell_type": "markdown",
      "metadata": {
        "id": "ouwPHdPRtxZv"
      },
      "source": [
        "# Import Libraries"
      ]
    },
    {
      "cell_type": "code",
      "execution_count": 6,
      "metadata": {
        "id": "9uUdg5JHc3MW"
      },
      "outputs": [
        {
          "name": "stderr",
          "output_type": "stream",
          "text": [
            "2024-04-16 23:43:58.683717: I tensorflow/core/platform/cpu_feature_guard.cc:210] This TensorFlow binary is optimized to use available CPU instructions in performance-critical operations.\n",
            "To enable the following instructions: AVX2 FMA, in other operations, rebuild TensorFlow with the appropriate compiler flags.\n",
            "/Users/camellia.le1912/Desktop/Skin-Care-Recommender-System/.venv/lib/python3.9/site-packages/urllib3/__init__.py:35: NotOpenSSLWarning: urllib3 v2 only supports OpenSSL 1.1.1+, currently the 'ssl' module is compiled with 'LibreSSL 2.8.3'. See: https://github.com/urllib3/urllib3/issues/3020\n",
            "  warnings.warn(\n"
          ]
        }
      ],
      "source": [
        "import tensorflow as tf\n",
        "import numpy as np\n",
        "import pandas as pd\n",
        "import matplotlib.pyplot as plt\n",
        "%matplotlib inline\n",
        "import plotly.express as px\n",
        "import plotly.graph_objects as go\n",
        "import plotly.offline as pyo\n",
        "import plotly.io as pio\n",
        "import seaborn as sns\n",
        "import missingno as mno\n",
        "from sklearn.feature_extraction.text import TfidfVectorizer"
      ]
    },
    {
      "cell_type": "markdown",
      "metadata": {
        "id": "yNe0pbhlvX24"
      },
      "source": [
        "# Data Exploration"
      ]
    },
    {
      "cell_type": "code",
      "execution_count": 7,
      "metadata": {
        "colab": {
          "base_uri": "https://localhost:8080/",
          "height": 727
        },
        "id": "RCGO_tTyvJl8",
        "outputId": "5d568f32-51f1-4f37-e447-328016ee5ece"
      },
      "outputs": [
        {
          "name": "stdout",
          "output_type": "stream",
          "text": [
            "<class 'pandas.core.frame.DataFrame'>\n",
            "RangeIndex: 938 entries, 0 to 937\n",
            "Data columns (total 13 columns):\n",
            " #   Column           Non-Null Count  Dtype \n",
            "---  ------           --------------  ----- \n",
            " 0   Unnamed: 0       938 non-null    int64 \n",
            " 1   product_name     937 non-null    object\n",
            " 2   product_type     937 non-null    object\n",
            " 3   brand            937 non-null    object\n",
            " 4   product_href     937 non-null    object\n",
            " 5   price            937 non-null    object\n",
            " 6   notable_effects  554 non-null    object\n",
            " 7   skin_type        938 non-null    object\n",
            " 8   Normal           938 non-null    int64 \n",
            " 9   Oily             938 non-null    int64 \n",
            " 10  Combination      938 non-null    int64 \n",
            " 11  Dry              938 non-null    int64 \n",
            " 12  description      936 non-null    object\n",
            "dtypes: int64(5), object(8)\n",
            "memory usage: 95.4+ KB\n"
          ]
        },
        {
          "data": {
            "text/html": [
              "<div>\n",
              "<style scoped>\n",
              "    .dataframe tbody tr th:only-of-type {\n",
              "        vertical-align: middle;\n",
              "    }\n",
              "\n",
              "    .dataframe tbody tr th {\n",
              "        vertical-align: top;\n",
              "    }\n",
              "\n",
              "    .dataframe thead th {\n",
              "        text-align: right;\n",
              "    }\n",
              "</style>\n",
              "<table border=\"1\" class=\"dataframe\">\n",
              "  <thead>\n",
              "    <tr style=\"text-align: right;\">\n",
              "      <th></th>\n",
              "      <th>Unnamed: 0</th>\n",
              "      <th>product_name</th>\n",
              "      <th>product_type</th>\n",
              "      <th>brand</th>\n",
              "      <th>product_href</th>\n",
              "      <th>price</th>\n",
              "      <th>notable_effects</th>\n",
              "      <th>skin_type</th>\n",
              "      <th>Normal</th>\n",
              "      <th>Oily</th>\n",
              "      <th>Combination</th>\n",
              "      <th>Dry</th>\n",
              "      <th>description</th>\n",
              "    </tr>\n",
              "  </thead>\n",
              "  <tbody>\n",
              "    <tr>\n",
              "      <th>0</th>\n",
              "      <td>0</td>\n",
              "      <td>Lip Butter Balm for Hydration &amp; Shine</td>\n",
              "      <td>Lip Balms &amp; Treatments</td>\n",
              "      <td>Summer Fridays</td>\n",
              "      <td>https://www.sephora.com/product/summer-fridays...</td>\n",
              "      <td>$24.00</td>\n",
              "      <td>Dryness and Dullness</td>\n",
              "      <td>Normal, Dry, Combination, and Oily</td>\n",
              "      <td>1</td>\n",
              "      <td>1</td>\n",
              "      <td>1</td>\n",
              "      <td>1</td>\n",
              "      <td>A silky vegan balm that hydrates and soothes d...</td>\n",
              "    </tr>\n",
              "    <tr>\n",
              "      <th>1</th>\n",
              "      <td>1</td>\n",
              "      <td>Niacinamide 10% + Zinc 1% Oil Control Serum</td>\n",
              "      <td>Face Serums</td>\n",
              "      <td>The Ordinary</td>\n",
              "      <td>https://www.sephora.com/product/the-ordinary-d...</td>\n",
              "      <td>$6.00</td>\n",
              "      <td>Pores and Oiliness</td>\n",
              "      <td>Normal, Dry, Combination, and Oily</td>\n",
              "      <td>1</td>\n",
              "      <td>1</td>\n",
              "      <td>1</td>\n",
              "      <td>1</td>\n",
              "      <td>A high-strength vitamin-and-mineral blemish fo...</td>\n",
              "    </tr>\n",
              "    <tr>\n",
              "      <th>2</th>\n",
              "      <td>2</td>\n",
              "      <td>Dreamy Lip Kit</td>\n",
              "      <td>Value &amp; Gift Sets</td>\n",
              "      <td>LANEIGE</td>\n",
              "      <td>https://www.sephora.com/product/laneige-dreamy...</td>\n",
              "      <td>$20.00</td>\n",
              "      <td>Dryness, Dullness, and Loss of Firmness and El...</td>\n",
              "      <td>Normal, Dry, Combination, and Oily</td>\n",
              "      <td>1</td>\n",
              "      <td>1</td>\n",
              "      <td>1</td>\n",
              "      <td>1</td>\n",
              "      <td>A kit that features the beloved Lip Sleeping M...</td>\n",
              "    </tr>\n",
              "    <tr>\n",
              "      <th>3</th>\n",
              "      <td>3</td>\n",
              "      <td>Watermelon Glow PHA + BHA Pore-Tight Toner</td>\n",
              "      <td>Toners</td>\n",
              "      <td>Glow Recipe</td>\n",
              "      <td>https://www.sephora.com/product/glow-recipe-wa...</td>\n",
              "      <td>$35.00</td>\n",
              "      <td>Pores, Dryness, and Dullness</td>\n",
              "      <td>Normal, Dry, Combination, and Oily</td>\n",
              "      <td>1</td>\n",
              "      <td>1</td>\n",
              "      <td>1</td>\n",
              "      <td>1</td>\n",
              "      <td>A bestselling, gentle PHA- and BHA-infused wat...</td>\n",
              "    </tr>\n",
              "    <tr>\n",
              "      <th>4</th>\n",
              "      <td>4</td>\n",
              "      <td>Glycolic Acid 7% Exfoliating Toner</td>\n",
              "      <td>Toners</td>\n",
              "      <td>The Ordinary</td>\n",
              "      <td>https://www.sephora.com/product/the-ordinary-d...</td>\n",
              "      <td>$8.70</td>\n",
              "      <td>Dullness and Uneven Texture</td>\n",
              "      <td>Normal, Dry, Combination, and Oily</td>\n",
              "      <td>1</td>\n",
              "      <td>1</td>\n",
              "      <td>1</td>\n",
              "      <td>1</td>\n",
              "      <td>A daily surface exfoliator that smooths skin t...</td>\n",
              "    </tr>\n",
              "  </tbody>\n",
              "</table>\n",
              "</div>"
            ],
            "text/plain": [
              "   Unnamed: 0                                  product_name  \\\n",
              "0           0         Lip Butter Balm for Hydration & Shine   \n",
              "1           1  Niacinamide 10% + Zinc 1% Oil Control Serum    \n",
              "2           2                                Dreamy Lip Kit   \n",
              "3           3    Watermelon Glow PHA + BHA Pore-Tight Toner   \n",
              "4           4            Glycolic Acid 7% Exfoliating Toner   \n",
              "\n",
              "             product_type           brand  \\\n",
              "0  Lip Balms & Treatments  Summer Fridays   \n",
              "1             Face Serums    The Ordinary   \n",
              "2       Value & Gift Sets         LANEIGE   \n",
              "3                  Toners     Glow Recipe   \n",
              "4                  Toners    The Ordinary   \n",
              "\n",
              "                                        product_href   price  \\\n",
              "0  https://www.sephora.com/product/summer-fridays...  $24.00   \n",
              "1  https://www.sephora.com/product/the-ordinary-d...   $6.00   \n",
              "2  https://www.sephora.com/product/laneige-dreamy...  $20.00   \n",
              "3  https://www.sephora.com/product/glow-recipe-wa...  $35.00   \n",
              "4  https://www.sephora.com/product/the-ordinary-d...   $8.70   \n",
              "\n",
              "                                     notable_effects  \\\n",
              "0                               Dryness and Dullness   \n",
              "1                                 Pores and Oiliness   \n",
              "2  Dryness, Dullness, and Loss of Firmness and El...   \n",
              "3                       Pores, Dryness, and Dullness   \n",
              "4                        Dullness and Uneven Texture   \n",
              "\n",
              "                            skin_type  Normal  Oily  Combination  Dry  \\\n",
              "0  Normal, Dry, Combination, and Oily       1     1            1    1   \n",
              "1  Normal, Dry, Combination, and Oily       1     1            1    1   \n",
              "2  Normal, Dry, Combination, and Oily       1     1            1    1   \n",
              "3  Normal, Dry, Combination, and Oily       1     1            1    1   \n",
              "4  Normal, Dry, Combination, and Oily       1     1            1    1   \n",
              "\n",
              "                                         description  \n",
              "0  A silky vegan balm that hydrates and soothes d...  \n",
              "1  A high-strength vitamin-and-mineral blemish fo...  \n",
              "2  A kit that features the beloved Lip Sleeping M...  \n",
              "3  A bestselling, gentle PHA- and BHA-infused wat...  \n",
              "4  A daily surface exfoliator that smooths skin t...  "
            ]
          },
          "execution_count": 7,
          "metadata": {},
          "output_type": "execute_result"
        }
      ],
      "source": [
        "skincare = pd.read_csv('processed_data.csv', low_memory=False)\n",
        "skincare.info()\n",
        "skincare.head()"
      ]
    },
    {
      "cell_type": "code",
      "execution_count": 8,
      "metadata": {
        "colab": {
          "base_uri": "https://localhost:8080/"
        },
        "id": "WuPQcLj8g-p-",
        "outputId": "2d5c9749-e27e-4970-9283-6af8cc47e420"
      },
      "outputs": [
        {
          "data": {
            "text/plain": [
              "0"
            ]
          },
          "execution_count": 8,
          "metadata": {},
          "output_type": "execute_result"
        }
      ],
      "source": [
        "# Check duplicated rows\n",
        "skincare.duplicated().sum()"
      ]
    },
    {
      "cell_type": "code",
      "execution_count": 9,
      "metadata": {
        "colab": {
          "base_uri": "https://localhost:8080/",
          "height": 175
        },
        "id": "t90RAAJK2gCd",
        "outputId": "eee9ad3a-3724-43b7-d212-2e2f3796704c"
      },
      "outputs": [
        {
          "data": {
            "text/html": [
              "<div>\n",
              "<style scoped>\n",
              "    .dataframe tbody tr th:only-of-type {\n",
              "        vertical-align: middle;\n",
              "    }\n",
              "\n",
              "    .dataframe tbody tr th {\n",
              "        vertical-align: top;\n",
              "    }\n",
              "\n",
              "    .dataframe thead th {\n",
              "        text-align: right;\n",
              "    }\n",
              "</style>\n",
              "<table border=\"1\" class=\"dataframe\">\n",
              "  <thead>\n",
              "    <tr style=\"text-align: right;\">\n",
              "      <th></th>\n",
              "      <th>product_type</th>\n",
              "      <th>brand</th>\n",
              "      <th>notable_effects</th>\n",
              "      <th>skin_type</th>\n",
              "    </tr>\n",
              "  </thead>\n",
              "  <tbody>\n",
              "    <tr>\n",
              "      <th>count</th>\n",
              "      <td>937</td>\n",
              "      <td>937</td>\n",
              "      <td>554</td>\n",
              "      <td>938</td>\n",
              "    </tr>\n",
              "    <tr>\n",
              "      <th>unique</th>\n",
              "      <td>59</td>\n",
              "      <td>151</td>\n",
              "      <td>252</td>\n",
              "      <td>74</td>\n",
              "    </tr>\n",
              "    <tr>\n",
              "      <th>top</th>\n",
              "      <td>Face Serums</td>\n",
              "      <td>Supergoop!</td>\n",
              "      <td>Dryness</td>\n",
              "      <td>Normal, Dry, Combination, and Oily</td>\n",
              "    </tr>\n",
              "    <tr>\n",
              "      <th>freq</th>\n",
              "      <td>121</td>\n",
              "      <td>27</td>\n",
              "      <td>32</td>\n",
              "      <td>733</td>\n",
              "    </tr>\n",
              "  </tbody>\n",
              "</table>\n",
              "</div>"
            ],
            "text/plain": [
              "       product_type       brand notable_effects  \\\n",
              "count           937         937             554   \n",
              "unique           59         151             252   \n",
              "top     Face Serums  Supergoop!         Dryness   \n",
              "freq            121          27              32   \n",
              "\n",
              "                                 skin_type  \n",
              "count                                  938  \n",
              "unique                                  74  \n",
              "top     Normal, Dry, Combination, and Oily  \n",
              "freq                                   733  "
            ]
          },
          "execution_count": 9,
          "metadata": {},
          "output_type": "execute_result"
        }
      ],
      "source": [
        "# Describe the features\n",
        "cat = ['product_type', 'brand', 'notable_effects', 'skin_type']\n",
        "\n",
        "skincare[cat].describe()"
      ]
    },
    {
      "cell_type": "markdown",
      "metadata": {
        "id": "Cif6Q4j13Td4"
      },
      "source": [
        "**SUMMARY**\n",
        "1. In total, there are 938 products scrapped from websites.  \n",
        "2. Because this data was scrapped and arranged by me, it looks neater and cleaner. There's no null value.  \n",
        "3. Fortunately, there are 0 duplicate rows. No needs to be removed.  \n",
        "4. Of many different types of products, Face Serums is more hype than others.   \n",
        "5. Supergoop! is the top brand, which means they have many kinds of products.  \n",
        "6. From many pairs of notable effects, 150 products are good Dryness.\n",
        "7. Looks like many skin care products suitable for all skin types including Normal, Dry, Combination, Oily.  "
      ]
    },
    {
      "cell_type": "markdown",
      "metadata": {
        "id": "GQ9kpjnw8HcT"
      },
      "source": [
        "## Exploratory Data Analysis (EDA)"
      ]
    },
    {
      "cell_type": "code",
      "execution_count": 10,
      "metadata": {
        "colab": {
          "base_uri": "https://localhost:8080/",
          "height": 363
        },
        "id": "ibGkbzLAbGcm",
        "outputId": "332036fb-fc63-4d57-f0f5-a4419eab372f"
      },
      "outputs": [
        {
          "data": {
            "text/html": [
              "<div>\n",
              "<style scoped>\n",
              "    .dataframe tbody tr th:only-of-type {\n",
              "        vertical-align: middle;\n",
              "    }\n",
              "\n",
              "    .dataframe tbody tr th {\n",
              "        vertical-align: top;\n",
              "    }\n",
              "\n",
              "    .dataframe thead th {\n",
              "        text-align: right;\n",
              "    }\n",
              "</style>\n",
              "<table border=\"1\" class=\"dataframe\">\n",
              "  <thead>\n",
              "    <tr style=\"text-align: right;\">\n",
              "      <th></th>\n",
              "      <th>Brand</th>\n",
              "      <th>Counts</th>\n",
              "      <th>Percent%</th>\n",
              "    </tr>\n",
              "  </thead>\n",
              "  <tbody>\n",
              "    <tr>\n",
              "      <th>0</th>\n",
              "      <td>Supergoop!</td>\n",
              "      <td>27</td>\n",
              "      <td>2.88</td>\n",
              "    </tr>\n",
              "    <tr>\n",
              "      <th>1</th>\n",
              "      <td>SEPHORA COLLECTION</td>\n",
              "      <td>26</td>\n",
              "      <td>2.77</td>\n",
              "    </tr>\n",
              "    <tr>\n",
              "      <th>2</th>\n",
              "      <td>Peter Thomas Roth</td>\n",
              "      <td>25</td>\n",
              "      <td>2.67</td>\n",
              "    </tr>\n",
              "    <tr>\n",
              "      <th>3</th>\n",
              "      <td>CLINIQUE</td>\n",
              "      <td>23</td>\n",
              "      <td>2.45</td>\n",
              "    </tr>\n",
              "    <tr>\n",
              "      <th>4</th>\n",
              "      <td>Caudalie</td>\n",
              "      <td>23</td>\n",
              "      <td>2.45</td>\n",
              "    </tr>\n",
              "    <tr>\n",
              "      <th>5</th>\n",
              "      <td>The Ordinary</td>\n",
              "      <td>23</td>\n",
              "      <td>2.45</td>\n",
              "    </tr>\n",
              "    <tr>\n",
              "      <th>6</th>\n",
              "      <td>Tatcha</td>\n",
              "      <td>19</td>\n",
              "      <td>2.03</td>\n",
              "    </tr>\n",
              "    <tr>\n",
              "      <th>7</th>\n",
              "      <td>Murad</td>\n",
              "      <td>18</td>\n",
              "      <td>1.92</td>\n",
              "    </tr>\n",
              "    <tr>\n",
              "      <th>8</th>\n",
              "      <td>Dr. Dennis Gross Skincare</td>\n",
              "      <td>18</td>\n",
              "      <td>1.92</td>\n",
              "    </tr>\n",
              "    <tr>\n",
              "      <th>9</th>\n",
              "      <td>Kiehl's Since 1851</td>\n",
              "      <td>18</td>\n",
              "      <td>1.92</td>\n",
              "    </tr>\n",
              "  </tbody>\n",
              "</table>\n",
              "</div>"
            ],
            "text/plain": [
              "                       Brand  Counts  Percent%\n",
              "0                 Supergoop!      27      2.88\n",
              "1         SEPHORA COLLECTION      26      2.77\n",
              "2          Peter Thomas Roth      25      2.67\n",
              "3                   CLINIQUE      23      2.45\n",
              "4                   Caudalie      23      2.45\n",
              "5               The Ordinary      23      2.45\n",
              "6                     Tatcha      19      2.03\n",
              "7                      Murad      18      1.92\n",
              "8  Dr. Dennis Gross Skincare      18      1.92\n",
              "9         Kiehl's Since 1851      18      1.92"
            ]
          },
          "execution_count": 10,
          "metadata": {},
          "output_type": "execute_result"
        }
      ],
      "source": [
        "counts_brand = skincare['brand'].value_counts()\n",
        "count_percentage = skincare['brand'].value_counts(1)*100\n",
        "counts_dfbrand = pd.DataFrame({'Brand':counts_brand.index,'Counts':counts_brand.values,'Percent%':np.round(count_percentage.values,2)})\n",
        "top_10_brands = counts_dfbrand.head(10)\n",
        "top_10_brands"
      ]
    },
    {
      "cell_type": "code",
      "execution_count": 11,
      "metadata": {
        "colab": {
          "base_uri": "https://localhost:8080/",
          "height": 529
        },
        "id": "CkPH-hbE8kLa",
        "outputId": "758ea685-f323-4e3a-900a-f01bebdb1234"
      },
      "outputs": [
        {
          "name": "stderr",
          "output_type": "stream",
          "text": [
            "/var/folders/jq/v13lsx0x7hz19q44s7qrfd_00000gn/T/ipykernel_40926/2435786383.py:5: FutureWarning:\n",
            "\n",
            "\n",
            "\n",
            "Passing `palette` without assigning `hue` is deprecated and will be removed in v0.14.0. Assign the `x` variable to `hue` and set `legend=False` for the same effect.\n",
            "\n",
            "\n"
          ]
        },
        {
          "data": {
            "image/png": "[encoded data removed]",
            "text/plain": [
              "<Figure size 1000x500 with 1 Axes>"
            ]
          },
          "metadata": {},
          "output_type": "display_data"
        }
      ],
      "source": [
        "# Brand\n",
        "\n",
        "plt.figure(figsize=(10, 5))\n",
        "sns.set(style='white')\n",
        "ax = sns.barplot(x='Brand', y='Counts', width = 0.6, data=top_10_brands, palette='magma')\n",
        "ax.set_title('Total Products of Top 10 Brands', fontsize=15, fontweight='bold')\n",
        "ax.set_xlabel('Brand', fontsize=12, fontweight='medium')\n",
        "ax.set_ylabel('Total Products', fontsize=12, fontweight='medium')\n",
        "\n",
        "for label in ax.containers:\n",
        "    ax.bar_label(label, fontweight='medium', fontsize=10)\n",
        "plt.xticks(rotation = 15, fontsize=10)\n",
        "plt.show()"
      ]
    },
    {
      "cell_type": "code",
      "execution_count": 12,
      "metadata": {
        "colab": {
          "base_uri": "https://localhost:8080/",
          "height": 206
        },
        "id": "4i9Mi-CuwcQL",
        "outputId": "5ff072a7-0c26-47e4-db38-0d953d3ccc83"
      },
      "outputs": [
        {
          "data": {
            "text/html": [
              "<div>\n",
              "<style scoped>\n",
              "    .dataframe tbody tr th:only-of-type {\n",
              "        vertical-align: middle;\n",
              "    }\n",
              "\n",
              "    .dataframe tbody tr th {\n",
              "        vertical-align: top;\n",
              "    }\n",
              "\n",
              "    .dataframe thead th {\n",
              "        text-align: right;\n",
              "    }\n",
              "</style>\n",
              "<table border=\"1\" class=\"dataframe\">\n",
              "  <thead>\n",
              "    <tr style=\"text-align: right;\">\n",
              "      <th></th>\n",
              "      <th>Count</th>\n",
              "      <th>Count%</th>\n",
              "    </tr>\n",
              "    <tr>\n",
              "      <th>product_type</th>\n",
              "      <th></th>\n",
              "      <th></th>\n",
              "    </tr>\n",
              "  </thead>\n",
              "  <tbody>\n",
              "    <tr>\n",
              "      <th>Face Serums</th>\n",
              "      <td>121</td>\n",
              "      <td>12.899787</td>\n",
              "    </tr>\n",
              "    <tr>\n",
              "      <th>Moisturizers</th>\n",
              "      <td>105</td>\n",
              "      <td>11.194030</td>\n",
              "    </tr>\n",
              "    <tr>\n",
              "      <th>Value &amp; Gift Sets</th>\n",
              "      <td>73</td>\n",
              "      <td>7.782516</td>\n",
              "    </tr>\n",
              "    <tr>\n",
              "      <th>Eye Creams &amp; Treatments</th>\n",
              "      <td>69</td>\n",
              "      <td>7.356077</td>\n",
              "    </tr>\n",
              "    <tr>\n",
              "      <th>Face Wash &amp; Cleansers</th>\n",
              "      <td>53</td>\n",
              "      <td>5.650320</td>\n",
              "    </tr>\n",
              "    <tr>\n",
              "      <th>Face Masks</th>\n",
              "      <td>52</td>\n",
              "      <td>5.543710</td>\n",
              "    </tr>\n",
              "    <tr>\n",
              "      <th>Lip Balms &amp; Treatments</th>\n",
              "      <td>48</td>\n",
              "      <td>5.117271</td>\n",
              "    </tr>\n",
              "    <tr>\n",
              "      <th>Face Sunscreen</th>\n",
              "      <td>47</td>\n",
              "      <td>5.010661</td>\n",
              "    </tr>\n",
              "    <tr>\n",
              "      <th>Body Lotions &amp; Body Oils</th>\n",
              "      <td>35</td>\n",
              "      <td>3.731343</td>\n",
              "    </tr>\n",
              "    <tr>\n",
              "      <th>Mini Size</th>\n",
              "      <td>32</td>\n",
              "      <td>3.411514</td>\n",
              "    </tr>\n",
              "    <tr>\n",
              "      <th>Toners</th>\n",
              "      <td>25</td>\n",
              "      <td>2.665245</td>\n",
              "    </tr>\n",
              "    <tr>\n",
              "      <th>Skincare</th>\n",
              "      <td>22</td>\n",
              "      <td>2.345416</td>\n",
              "    </tr>\n",
              "    <tr>\n",
              "      <th>Face Oils</th>\n",
              "      <td>18</td>\n",
              "      <td>1.918977</td>\n",
              "    </tr>\n",
              "    <tr>\n",
              "      <th>Blemish &amp; Acne Treatments</th>\n",
              "      <td>16</td>\n",
              "      <td>1.705757</td>\n",
              "    </tr>\n",
              "    <tr>\n",
              "      <th>Anti-Aging</th>\n",
              "      <td>15</td>\n",
              "      <td>1.599147</td>\n",
              "    </tr>\n",
              "    <tr>\n",
              "      <th>Exfoliators</th>\n",
              "      <td>14</td>\n",
              "      <td>1.492537</td>\n",
              "    </tr>\n",
              "    <tr>\n",
              "      <th>Facial Peels</th>\n",
              "      <td>13</td>\n",
              "      <td>1.385928</td>\n",
              "    </tr>\n",
              "    <tr>\n",
              "      <th>Mists &amp; Essences</th>\n",
              "      <td>13</td>\n",
              "      <td>1.385928</td>\n",
              "    </tr>\n",
              "    <tr>\n",
              "      <th>Beauty Supplements</th>\n",
              "      <td>11</td>\n",
              "      <td>1.172708</td>\n",
              "    </tr>\n",
              "    <tr>\n",
              "      <th>For Body</th>\n",
              "      <td>11</td>\n",
              "      <td>1.172708</td>\n",
              "    </tr>\n",
              "    <tr>\n",
              "      <th>Scrub &amp; Exfoliants</th>\n",
              "      <td>9</td>\n",
              "      <td>0.959488</td>\n",
              "    </tr>\n",
              "    <tr>\n",
              "      <th>Night Creams</th>\n",
              "      <td>9</td>\n",
              "      <td>0.959488</td>\n",
              "    </tr>\n",
              "    <tr>\n",
              "      <th>Body Wash &amp; Shower Gel</th>\n",
              "      <td>9</td>\n",
              "      <td>0.959488</td>\n",
              "    </tr>\n",
              "    <tr>\n",
              "      <th>Body Sunscreen</th>\n",
              "      <td>9</td>\n",
              "      <td>0.959488</td>\n",
              "    </tr>\n",
              "    <tr>\n",
              "      <th>For Face</th>\n",
              "      <td>9</td>\n",
              "      <td>0.959488</td>\n",
              "    </tr>\n",
              "    <tr>\n",
              "      <th>Eye Masks</th>\n",
              "      <td>9</td>\n",
              "      <td>0.959488</td>\n",
              "    </tr>\n",
              "    <tr>\n",
              "      <th>Lip Oil</th>\n",
              "      <td>9</td>\n",
              "      <td>0.959488</td>\n",
              "    </tr>\n",
              "    <tr>\n",
              "      <th>Sheet Masks</th>\n",
              "      <td>7</td>\n",
              "      <td>0.746269</td>\n",
              "    </tr>\n",
              "    <tr>\n",
              "      <th>Facial Rollers</th>\n",
              "      <td>6</td>\n",
              "      <td>0.639659</td>\n",
              "    </tr>\n",
              "    <tr>\n",
              "      <th>Hand Cream &amp; Foot Cream</th>\n",
              "      <td>6</td>\n",
              "      <td>0.639659</td>\n",
              "    </tr>\n",
              "    <tr>\n",
              "      <th>Intimate Care</th>\n",
              "      <td>5</td>\n",
              "      <td>0.533049</td>\n",
              "    </tr>\n",
              "    <tr>\n",
              "      <th>Deodorant &amp; Antiperspirant</th>\n",
              "      <td>5</td>\n",
              "      <td>0.533049</td>\n",
              "    </tr>\n",
              "    <tr>\n",
              "      <th>Sunscreen</th>\n",
              "      <td>4</td>\n",
              "      <td>0.426439</td>\n",
              "    </tr>\n",
              "    <tr>\n",
              "      <th>Lipstick</th>\n",
              "      <td>4</td>\n",
              "      <td>0.426439</td>\n",
              "    </tr>\n",
              "    <tr>\n",
              "      <th>Makeup Removers</th>\n",
              "      <td>4</td>\n",
              "      <td>0.426439</td>\n",
              "    </tr>\n",
              "    <tr>\n",
              "      <th>Hand Sanitizer &amp; Hand Soap</th>\n",
              "      <td>3</td>\n",
              "      <td>0.319829</td>\n",
              "    </tr>\n",
              "    <tr>\n",
              "      <th>Face Primer</th>\n",
              "      <td>3</td>\n",
              "      <td>0.319829</td>\n",
              "    </tr>\n",
              "    <tr>\n",
              "      <th>Blush</th>\n",
              "      <td>3</td>\n",
              "      <td>0.319829</td>\n",
              "    </tr>\n",
              "    <tr>\n",
              "      <th>High Tech Tools</th>\n",
              "      <td>3</td>\n",
              "      <td>0.319829</td>\n",
              "    </tr>\n",
              "    <tr>\n",
              "      <th>Bath &amp; Body</th>\n",
              "      <td>3</td>\n",
              "      <td>0.319829</td>\n",
              "    </tr>\n",
              "    <tr>\n",
              "      <th>Hair Supplements</th>\n",
              "      <td>3</td>\n",
              "      <td>0.319829</td>\n",
              "    </tr>\n",
              "    <tr>\n",
              "      <th>Teeth Whitening</th>\n",
              "      <td>2</td>\n",
              "      <td>0.213220</td>\n",
              "    </tr>\n",
              "    <tr>\n",
              "      <th>Decollete &amp; Neck Creams</th>\n",
              "      <td>2</td>\n",
              "      <td>0.213220</td>\n",
              "    </tr>\n",
              "    <tr>\n",
              "      <th>Holistic Wellness</th>\n",
              "      <td>2</td>\n",
              "      <td>0.213220</td>\n",
              "    </tr>\n",
              "    <tr>\n",
              "      <th>Self Tanners</th>\n",
              "      <td>2</td>\n",
              "      <td>0.213220</td>\n",
              "    </tr>\n",
              "    <tr>\n",
              "      <th>Feminine Care</th>\n",
              "      <td>1</td>\n",
              "      <td>0.106610</td>\n",
              "    </tr>\n",
              "    <tr>\n",
              "      <th>Body Care</th>\n",
              "      <td>1</td>\n",
              "      <td>0.106610</td>\n",
              "    </tr>\n",
              "    <tr>\n",
              "      <th>Hair Removal</th>\n",
              "      <td>1</td>\n",
              "      <td>0.106610</td>\n",
              "    </tr>\n",
              "    <tr>\n",
              "      <th>Lip Gloss</th>\n",
              "      <td>1</td>\n",
              "      <td>0.106610</td>\n",
              "    </tr>\n",
              "    <tr>\n",
              "      <th>Wellness</th>\n",
              "      <td>1</td>\n",
              "      <td>0.106610</td>\n",
              "    </tr>\n",
              "    <tr>\n",
              "      <th>BB &amp; CC Cream</th>\n",
              "      <td>1</td>\n",
              "      <td>0.106610</td>\n",
              "    </tr>\n",
              "    <tr>\n",
              "      <th>Foundation</th>\n",
              "      <td>1</td>\n",
              "      <td>0.106610</td>\n",
              "    </tr>\n",
              "    <tr>\n",
              "      <th>Body Moisturizers</th>\n",
              "      <td>1</td>\n",
              "      <td>0.106610</td>\n",
              "    </tr>\n",
              "    <tr>\n",
              "      <th>Rollerballs &amp; Travel Size</th>\n",
              "      <td>1</td>\n",
              "      <td>0.106610</td>\n",
              "    </tr>\n",
              "    <tr>\n",
              "      <th>Body Mist &amp; Hair Mist</th>\n",
              "      <td>1</td>\n",
              "      <td>0.106610</td>\n",
              "    </tr>\n",
              "    <tr>\n",
              "      <th>Tinted Moisturizer</th>\n",
              "      <td>1</td>\n",
              "      <td>0.106610</td>\n",
              "    </tr>\n",
              "    <tr>\n",
              "      <th>Facial Cleansing Brushes</th>\n",
              "      <td>1</td>\n",
              "      <td>0.106610</td>\n",
              "    </tr>\n",
              "    <tr>\n",
              "      <th>Fragrance</th>\n",
              "      <td>1</td>\n",
              "      <td>0.106610</td>\n",
              "    </tr>\n",
              "    <tr>\n",
              "      <th>Bath Soaks &amp; Bubble Bath</th>\n",
              "      <td>1</td>\n",
              "      <td>0.106610</td>\n",
              "    </tr>\n",
              "  </tbody>\n",
              "</table>\n",
              "</div>"
            ],
            "text/plain": [
              "                            Count     Count%\n",
              "product_type                                \n",
              "Face Serums                   121  12.899787\n",
              "Moisturizers                  105  11.194030\n",
              "Value & Gift Sets              73   7.782516\n",
              "Eye Creams & Treatments        69   7.356077\n",
              "Face Wash & Cleansers          53   5.650320\n",
              "Face Masks                     52   5.543710\n",
              "Lip Balms & Treatments         48   5.117271\n",
              "Face Sunscreen                 47   5.010661\n",
              "Body Lotions & Body Oils       35   3.731343\n",
              "Mini Size                      32   3.411514\n",
              "Toners                         25   2.665245\n",
              "Skincare                       22   2.345416\n",
              "Face Oils                      18   1.918977\n",
              "Blemish & Acne Treatments      16   1.705757\n",
              "Anti-Aging                     15   1.599147\n",
              "Exfoliators                    14   1.492537\n",
              "Facial Peels                   13   1.385928\n",
              "Mists & Essences               13   1.385928\n",
              "Beauty Supplements             11   1.172708\n",
              "For Body                       11   1.172708\n",
              "Scrub & Exfoliants              9   0.959488\n",
              "Night Creams                    9   0.959488\n",
              "Body Wash & Shower Gel          9   0.959488\n",
              "Body Sunscreen                  9   0.959488\n",
              "For Face                        9   0.959488\n",
              "Eye Masks                       9   0.959488\n",
              "Lip Oil                         9   0.959488\n",
              "Sheet Masks                     7   0.746269\n",
              "Facial Rollers                  6   0.639659\n",
              "Hand Cream & Foot Cream         6   0.639659\n",
              "Intimate Care                   5   0.533049\n",
              "Deodorant & Antiperspirant      5   0.533049\n",
              "Sunscreen                       4   0.426439\n",
              "Lipstick                        4   0.426439\n",
              "Makeup Removers                 4   0.426439\n",
              "Hand Sanitizer & Hand Soap      3   0.319829\n",
              "Face Primer                     3   0.319829\n",
              "Blush                           3   0.319829\n",
              "High Tech Tools                 3   0.319829\n",
              "Bath & Body                     3   0.319829\n",
              "Hair Supplements                3   0.319829\n",
              "Teeth Whitening                 2   0.213220\n",
              "Decollete & Neck Creams         2   0.213220\n",
              "Holistic Wellness               2   0.213220\n",
              "Self Tanners                    2   0.213220\n",
              "Feminine Care                   1   0.106610\n",
              "Body Care                       1   0.106610\n",
              "Hair Removal                    1   0.106610\n",
              "Lip Gloss                       1   0.106610\n",
              "Wellness                        1   0.106610\n",
              "BB & CC Cream                   1   0.106610\n",
              "Foundation                      1   0.106610\n",
              "Body Moisturizers               1   0.106610\n",
              "Rollerballs & Travel Size       1   0.106610\n",
              "Body Mist & Hair Mist           1   0.106610\n",
              "Tinted Moisturizer              1   0.106610\n",
              "Facial Cleansing Brushes        1   0.106610\n",
              "Fragrance                       1   0.106610\n",
              "Bath Soaks & Bubble Bath        1   0.106610"
            ]
          },
          "execution_count": 12,
          "metadata": {},
          "output_type": "execute_result"
        }
      ],
      "source": [
        "# Checking product type\n",
        "\n",
        "pd_type = pd.DataFrame()\n",
        "pd_type[\"Count\"] = skincare[\"product_type\"].value_counts()\n",
        "pd_type[\"Count%\"] = skincare[\"product_type\"].value_counts()/skincare.shape[0]*100\n",
        "pd_type"
      ]
    },
    {
      "cell_type": "code",
      "execution_count": 13,
      "metadata": {
        "colab": {
          "base_uri": "https://localhost:8080/",
          "height": 542
        },
        "id": "ALPIaMkaaZIq",
        "outputId": "c3b9f769-6731-4057-d02d-25a14fb80fe7"
      },
      "outputs": [
        {
          "data": {
            "application/vnd.plotly.v1+json": {
              "config": {
                "plotlyServerURL": "https://plot.ly"
              },
              "data": [
                {
                  "customdata": [
                    [
                      "Face Serums"
                    ],
                    [
                      "Moisturizers"
                    ],
                    [
                      "Value & Gift Sets"
                    ],
                    [
                      "Eye Creams & Treatments"
                    ],
                    [
                      "Face Wash & Cleansers"
                    ],
                    [
                      "Face Masks"
                    ],
                    [
                      "Lip Balms & Treatments"
                    ],
                    [
                      "Face Sunscreen"
                    ],
                    [
                      "Body Lotions & Body Oils"
                    ],
                    [
                      "Mini Size"
                    ],
                    [
                      "Toners"
                    ],
                    [
                      "Skincare"
                    ],
                    [
                      "Face Oils"
                    ],
                    [
                      "Blemish & Acne Treatments"
                    ],
                    [
                      "Anti-Aging"
                    ],
                    [
                      "Exfoliators"
                    ],
                    [
                      "Facial Peels"
                    ],
                    [
                      "Mists & Essences"
                    ],
                    [
                      "Beauty Supplements"
                    ],
                    [
                      "For Body"
                    ],
                    [
                      "Scrub & Exfoliants"
                    ],
                    [
                      "Night Creams"
                    ],
                    [
                      "Body Wash & Shower Gel"
                    ],
                    [
                      "Body Sunscreen"
                    ],
                    [
                      "For Face"
                    ],
                    [
                      "Eye Masks"
                    ],
                    [
                      "Lip Oil"
                    ],
                    [
                      "Sheet Masks"
                    ],
                    [
                      "Facial Rollers"
                    ],
                    [
                      "Hand Cream & Foot Cream"
                    ],
                    [
                      "Intimate Care"
                    ],
                    [
                      "Deodorant & Antiperspirant"
                    ],
                    [
                      "Sunscreen"
                    ],
                    [
                      "Lipstick"
                    ],
                    [
                      "Makeup Removers"
                    ],
                    [
                      "Hand Sanitizer & Hand Soap"
                    ],
                    [
                      "Face Primer"
                    ],
                    [
                      "Blush"
                    ],
                    [
                      "High Tech Tools"
                    ],
                    [
                      "Bath & Body"
                    ],
                    [
                      "Hair Supplements"
                    ],
                    [
                      "Teeth Whitening"
                    ],
                    [
                      "Decollete & Neck Creams"
                    ],
                    [
                      "Holistic Wellness"
                    ],
                    [
                      "Self Tanners"
                    ],
                    [
                      "Feminine Care"
                    ],
                    [
                      "Body Care"
                    ],
                    [
                      "Hair Removal"
                    ],
                    [
                      "Lip Gloss"
                    ],
                    [
                      "Wellness"
                    ],
                    [
                      "BB & CC Cream"
                    ],
                    [
                      "Foundation"
                    ],
                    [
                      "Body Moisturizers"
                    ],
                    [
                      "Rollerballs & Travel Size"
                    ],
                    [
                      "Body Mist & Hair Mist"
                    ],
                    [
                      "Tinted Moisturizer"
                    ],
                    [
                      "Facial Cleansing Brushes"
                    ],
                    [
                      "Fragrance"
                    ],
                    [
                      "Bath Soaks & Bubble Bath"
                    ]
                  ],
                  "domain": {
                    "x": [
                      0,
                      1
                    ],
                    "y": [
                      0,
                      1
                    ]
                  },
                  "hole": 0.5,
                  "hovertemplate": "product_type=%{customdata[0]}<br>Count=%{value}<extra></extra>",
                  "labels": [
                    "Face Serums",
                    "Moisturizers",
                    "Value & Gift Sets",
                    "Eye Creams & Treatments",
                    "Face Wash & Cleansers",
                    "Face Masks",
                    "Lip Balms & Treatments",
                    "Face Sunscreen",
                    "Body Lotions & Body Oils",
                    "Mini Size",
                    "Toners",
                    "Skincare",
                    "Face Oils",
                    "Blemish & Acne Treatments",
                    "Anti-Aging",
                    "Exfoliators",
                    "Facial Peels",
                    "Mists & Essences",
                    "Beauty Supplements",
                    "For Body",
                    "Scrub & Exfoliants",
                    "Night Creams",
                    "Body Wash & Shower Gel",
                    "Body Sunscreen",
                    "For Face",
                    "Eye Masks",
                    "Lip Oil",
                    "Sheet Masks",
                    "Facial Rollers",
                    "Hand Cream & Foot Cream",
                    "Intimate Care",
                    "Deodorant & Antiperspirant",
                    "Sunscreen",
                    "Lipstick",
                    "Makeup Removers",
                    "Hand Sanitizer & Hand Soap",
                    "Face Primer",
                    "Blush",
                    "High Tech Tools",
                    "Bath & Body",
                    "Hair Supplements",
                    "Teeth Whitening",
                    "Decollete & Neck Creams",
                    "Holistic Wellness",
                    "Self Tanners",
                    "Feminine Care",
                    "Body Care",
                    "Hair Removal",
                    "Lip Gloss",
                    "Wellness",
                    "BB & CC Cream",
                    "Foundation",
                    "Body Moisturizers",
                    "Rollerballs & Travel Size",
                    "Body Mist & Hair Mist",
                    "Tinted Moisturizer",
                    "Facial Cleansing Brushes",
                    "Fragrance",
                    "Bath Soaks & Bubble Bath"
                  ],
                  "legendgroup": "",
                  "marker": {
                    "colors": [
                      "#003049",
                      "#D62828",
                      "#F77F00",
                      "#FCBF49",
                      "#E9D8A6",
                      "#003049",
                      "#D62828",
                      "#F77F00",
                      "#FCBF49",
                      "#E9D8A6",
                      "#003049",
                      "#D62828",
                      "#F77F00",
                      "#FCBF49",
                      "#E9D8A6",
                      "#003049",
                      "#D62828",
                      "#F77F00",
                      "#FCBF49",
                      "#E9D8A6",
                      "#003049",
                      "#D62828",
                      "#F77F00",
                      "#FCBF49",
                      "#E9D8A6",
                      "#003049",
                      "#D62828",
                      "#F77F00",
                      "#FCBF49",
                      "#E9D8A6",
                      "#003049",
                      "#D62828",
                      "#F77F00",
                      "#FCBF49",
                      "#E9D8A6",
                      "#003049",
                      "#D62828",
                      "#F77F00",
                      "#FCBF49",
                      "#E9D8A6",
                      "#003049",
                      "#D62828",
                      "#F77F00",
                      "#FCBF49",
                      "#E9D8A6",
                      "#003049",
                      "#D62828",
                      "#F77F00",
                      "#FCBF49",
                      "#E9D8A6",
                      "#003049",
                      "#D62828",
                      "#F77F00",
                      "#FCBF49",
                      "#E9D8A6",
                      "#003049",
                      "#D62828",
                      "#F77F00",
                      "#FCBF49"
                    ]
                  },
                  "name": "",
                  "pull": [
                    0.2,
                    0,
                    0,
                    0
                  ],
                  "rotation": 10,
                  "showlegend": true,
                  "textfont": {
                    "color": "dark blue",
                    "size": 15
                  },
                  "textinfo": "label+percent",
                  "textposition": "outside",
                  "type": "pie",
                  "values": [
                    121,
                    105,
                    73,
                    69,
                    53,
                    52,
                    48,
                    47,
                    35,
                    32,
                    25,
                    22,
                    18,
                    16,
                    15,
                    14,
                    13,
                    13,
                    11,
                    11,
                    9,
                    9,
                    9,
                    9,
                    9,
                    9,
                    9,
                    7,
                    6,
                    6,
                    5,
                    5,
                    4,
                    4,
                    4,
                    3,
                    3,
                    3,
                    3,
                    3,
                    3,
                    2,
                    2,
                    2,
                    2,
                    1,
                    1,
                    1,
                    1,
                    1,
                    1,
                    1,
                    1,
                    1,
                    1,
                    1,
                    1,
                    1,
                    1
                  ]
                }
              ],
              "layout": {
                "annotations": [
                  {
                    "font": {
                      "color": "dark blue",
                      "size": 12
                    },
                    "showarrow": false,
                    "text": "Product Type"
                  }
                ],
                "legend": {
                  "tracegroupgap": 0
                },
                "margin": {
                  "t": 60
                },
                "piecolorway": [
                  "#003049",
                  "#D62828",
                  "#F77F00",
                  "#FCBF49",
                  "#E9D8A6"
                ],
                "template": {
                  "data": {
                    "bar": [
                      {
                        "error_x": {
                          "color": "#2a3f5f"
                        },
                        "error_y": {
                          "color": "#2a3f5f"
                        },
                        "marker": {
                          "line": {
                            "color": "#E5ECF6",
                            "width": 0.5
                          },
                          "pattern": {
                            "fillmode": "overlay",
                            "size": 10,
                            "solidity": 0.2
                          }
                        },
                        "type": "bar"
                      }
                    ],
                    "barpolar": [
                      {
                        "marker": {
                          "line": {
                            "color": "#E5ECF6",
                            "width": 0.5
                          },
                          "pattern": {
                            "fillmode": "overlay",
                            "size": 10,
                            "solidity": 0.2
                          }
                        },
                        "type": "barpolar"
                      }
                    ],
                    "carpet": [
                      {
                        "aaxis": {
                          "endlinecolor": "#2a3f5f",
                          "gridcolor": "white",
                          "linecolor": "white",
                          "minorgridcolor": "white",
                          "startlinecolor": "#2a3f5f"
                        },
                        "baxis": {
                          "endlinecolor": "#2a3f5f",
                          "gridcolor": "white",
                          "linecolor": "white",
                          "minorgridcolor": "white",
                          "startlinecolor": "#2a3f5f"
                        },
                        "type": "carpet"
                      }
                    ],
                    "choropleth": [
                      {
                        "colorbar": {
                          "outlinewidth": 0,
                          "ticks": ""
                        },
                        "type": "choropleth"
                      }
                    ],
                    "contour": [
                      {
                        "colorbar": {
                          "outlinewidth": 0,
                          "ticks": ""
                        },
                        "colorscale": [
                          [
                            0,
                            "#0d0887"
                          ],
                          [
                            0.1111111111111111,
                            "#46039f"
                          ],
                          [
                            0.2222222222222222,
                            "#7201a8"
                          ],
                          [
                            0.3333333333333333,
                            "#9c179e"
                          ],
                          [
                            0.4444444444444444,
                            "#bd3786"
                          ],
                          [
                            0.5555555555555556,
                            "#d8576b"
                          ],
                          [
                            0.6666666666666666,
                            "#ed7953"
                          ],
                          [
                            0.7777777777777778,
                            "#fb9f3a"
                          ],
                          [
                            0.8888888888888888,
                            "#fdca26"
                          ],
                          [
                            1,
                            "#f0f921"
                          ]
                        ],
                        "type": "contour"
                      }
                    ],
                    "contourcarpet": [
                      {
                        "colorbar": {
                          "outlinewidth": 0,
                          "ticks": ""
                        },
                        "type": "contourcarpet"
                      }
                    ],
                    "heatmap": [
                      {
                        "colorbar": {
                          "outlinewidth": 0,
                          "ticks": ""
                        },
                        "colorscale": [
                          [
                            0,
                            "#0d0887"
                          ],
                          [
                            0.1111111111111111,
                            "#46039f"
                          ],
                          [
                            0.2222222222222222,
                            "#7201a8"
                          ],
                          [
                            0.3333333333333333,
                            "#9c179e"
                          ],
                          [
                            0.4444444444444444,
                            "#bd3786"
                          ],
                          [
                            0.5555555555555556,
                            "#d8576b"
                          ],
                          [
                            0.6666666666666666,
                            "#ed7953"
                          ],
                          [
                            0.7777777777777778,
                            "#fb9f3a"
                          ],
                          [
                            0.8888888888888888,
                            "#fdca26"
                          ],
                          [
                            1,
                            "#f0f921"
                          ]
                        ],
                        "type": "heatmap"
                      }
                    ],
                    "heatmapgl": [
                      {
                        "colorbar": {
                          "outlinewidth": 0,
                          "ticks": ""
                        },
                        "colorscale": [
                          [
                            0,
                            "#0d0887"
                          ],
                          [
                            0.1111111111111111,
                            "#46039f"
                          ],
                          [
                            0.2222222222222222,
                            "#7201a8"
                          ],
                          [
                            0.3333333333333333,
                            "#9c179e"
                          ],
                          [
                            0.4444444444444444,
                            "#bd3786"
                          ],
                          [
                            0.5555555555555556,
                            "#d8576b"
                          ],
                          [
                            0.6666666666666666,
                            "#ed7953"
                          ],
                          [
                            0.7777777777777778,
                            "#fb9f3a"
                          ],
                          [
                            0.8888888888888888,
                            "#fdca26"
                          ],
                          [
                            1,
                            "#f0f921"
                          ]
                        ],
                        "type": "heatmapgl"
                      }
                    ],
                    "histogram": [
                      {
                        "marker": {
                          "pattern": {
                            "fillmode": "overlay",
                            "size": 10,
                            "solidity": 0.2
                          }
                        },
                        "type": "histogram"
                      }
                    ],
                    "histogram2d": [
                      {
                        "colorbar": {
                          "outlinewidth": 0,
                          "ticks": ""
                        },
                        "colorscale": [
                          [
                            0,
                            "#0d0887"
                          ],
                          [
                            0.1111111111111111,
                            "#46039f"
                          ],
                          [
                            0.2222222222222222,
                            "#7201a8"
                          ],
                          [
                            0.3333333333333333,
                            "#9c179e"
                          ],
                          [
                            0.4444444444444444,
                            "#bd3786"
                          ],
                          [
                            0.5555555555555556,
                            "#d8576b"
                          ],
                          [
                            0.6666666666666666,
                            "#ed7953"
                          ],
                          [
                            0.7777777777777778,
                            "#fb9f3a"
                          ],
                          [
                            0.8888888888888888,
                            "#fdca26"
                          ],
                          [
                            1,
                            "#f0f921"
                          ]
                        ],
                        "type": "histogram2d"
                      }
                    ],
                    "histogram2dcontour": [
                      {
                        "colorbar": {
                          "outlinewidth": 0,
                          "ticks": ""
                        },
                        "colorscale": [
                          [
                            0,
                            "#0d0887"
                          ],
                          [
                            0.1111111111111111,
                            "#46039f"
                          ],
                          [
                            0.2222222222222222,
                            "#7201a8"
                          ],
                          [
                            0.3333333333333333,
                            "#9c179e"
                          ],
                          [
                            0.4444444444444444,
                            "#bd3786"
                          ],
                          [
                            0.5555555555555556,
                            "#d8576b"
                          ],
                          [
                            0.6666666666666666,
                            "#ed7953"
                          ],
                          [
                            0.7777777777777778,
                            "#fb9f3a"
                          ],
                          [
                            0.8888888888888888,
                            "#fdca26"
                          ],
                          [
                            1,
                            "#f0f921"
                          ]
                        ],
                        "type": "histogram2dcontour"
                      }
                    ],
                    "mesh3d": [
                      {
                        "colorbar": {
                          "outlinewidth": 0,
                          "ticks": ""
                        },
                        "type": "mesh3d"
                      }
                    ],
                    "parcoords": [
                      {
                        "line": {
                          "colorbar": {
                            "outlinewidth": 0,
                            "ticks": ""
                          }
                        },
                        "type": "parcoords"
                      }
                    ],
                    "pie": [
                      {
                        "automargin": true,
                        "type": "pie"
                      }
                    ],
                    "scatter": [
                      {
                        "fillpattern": {
                          "fillmode": "overlay",
                          "size": 10,
                          "solidity": 0.2
                        },
                        "type": "scatter"
                      }
                    ],
                    "scatter3d": [
                      {
                        "line": {
                          "colorbar": {
                            "outlinewidth": 0,
                            "ticks": ""
                          }
                        },
                        "marker": {
                          "colorbar": {
                            "outlinewidth": 0,
                            "ticks": ""
                          }
                        },
                        "type": "scatter3d"
                      }
                    ],
                    "scattercarpet": [
                      {
                        "marker": {
                          "colorbar": {
                            "outlinewidth": 0,
                            "ticks": ""
                          }
                        },
                        "type": "scattercarpet"
                      }
                    ],
                    "scattergeo": [
                      {
                        "marker": {
                          "colorbar": {
                            "outlinewidth": 0,
                            "ticks": ""
                          }
                        },
                        "type": "scattergeo"
                      }
                    ],
                    "scattergl": [
                      {
                        "marker": {
                          "colorbar": {
                            "outlinewidth": 0,
                            "ticks": ""
                          }
                        },
                        "type": "scattergl"
                      }
                    ],
                    "scattermapbox": [
                      {
                        "marker": {
                          "colorbar": {
                            "outlinewidth": 0,
                            "ticks": ""
                          }
                        },
                        "type": "scattermapbox"
                      }
                    ],
                    "scatterpolar": [
                      {
                        "marker": {
                          "colorbar": {
                            "outlinewidth": 0,
                            "ticks": ""
                          }
                        },
                        "type": "scatterpolar"
                      }
                    ],
                    "scatterpolargl": [
                      {
                        "marker": {
                          "colorbar": {
                            "outlinewidth": 0,
                            "ticks": ""
                          }
                        },
                        "type": "scatterpolargl"
                      }
                    ],
                    "scatterternary": [
                      {
                        "marker": {
                          "colorbar": {
                            "outlinewidth": 0,
                            "ticks": ""
                          }
                        },
                        "type": "scatterternary"
                      }
                    ],
                    "surface": [
                      {
                        "colorbar": {
                          "outlinewidth": 0,
                          "ticks": ""
                        },
                        "colorscale": [
                          [
                            0,
                            "#0d0887"
                          ],
                          [
                            0.1111111111111111,
                            "#46039f"
                          ],
                          [
                            0.2222222222222222,
                            "#7201a8"
                          ],
                          [
                            0.3333333333333333,
                            "#9c179e"
                          ],
                          [
                            0.4444444444444444,
                            "#bd3786"
                          ],
                          [
                            0.5555555555555556,
                            "#d8576b"
                          ],
                          [
                            0.6666666666666666,
                            "#ed7953"
                          ],
                          [
                            0.7777777777777778,
                            "#fb9f3a"
                          ],
                          [
                            0.8888888888888888,
                            "#fdca26"
                          ],
                          [
                            1,
                            "#f0f921"
                          ]
                        ],
                        "type": "surface"
                      }
                    ],
                    "table": [
                      {
                        "cells": {
                          "fill": {
                            "color": "#EBF0F8"
                          },
                          "line": {
                            "color": "white"
                          }
                        },
                        "header": {
                          "fill": {
                            "color": "#C8D4E3"
                          },
                          "line": {
                            "color": "white"
                          }
                        },
                        "type": "table"
                      }
                    ]
                  },
                  "layout": {
                    "annotationdefaults": {
                      "arrowcolor": "#2a3f5f",
                      "arrowhead": 0,
                      "arrowwidth": 1
                    },
                    "autotypenumbers": "strict",
                    "coloraxis": {
                      "colorbar": {
                        "outlinewidth": 0,
                        "ticks": ""
                      }
                    },
                    "colorscale": {
                      "diverging": [
                        [
                          0,
                          "#8e0152"
                        ],
                        [
                          0.1,
                          "#c51b7d"
                        ],
                        [
                          0.2,
                          "#de77ae"
                        ],
                        [
                          0.3,
                          "#f1b6da"
                        ],
                        [
                          0.4,
                          "#fde0ef"
                        ],
                        [
                          0.5,
                          "#f7f7f7"
                        ],
                        [
                          0.6,
                          "#e6f5d0"
                        ],
                        [
                          0.7,
                          "#b8e186"
                        ],
                        [
                          0.8,
                          "#7fbc41"
                        ],
                        [
                          0.9,
                          "#4d9221"
                        ],
                        [
                          1,
                          "#276419"
                        ]
                      ],
                      "sequential": [
                        [
                          0,
                          "#0d0887"
                        ],
                        [
                          0.1111111111111111,
                          "#46039f"
                        ],
                        [
                          0.2222222222222222,
                          "#7201a8"
                        ],
                        [
                          0.3333333333333333,
                          "#9c179e"
                        ],
                        [
                          0.4444444444444444,
                          "#bd3786"
                        ],
                        [
                          0.5555555555555556,
                          "#d8576b"
                        ],
                        [
                          0.6666666666666666,
                          "#ed7953"
                        ],
                        [
                          0.7777777777777778,
                          "#fb9f3a"
                        ],
                        [
                          0.8888888888888888,
                          "#fdca26"
                        ],
                        [
                          1,
                          "#f0f921"
                        ]
                      ],
                      "sequentialminus": [
                        [
                          0,
                          "#0d0887"
                        ],
                        [
                          0.1111111111111111,
                          "#46039f"
                        ],
                        [
                          0.2222222222222222,
                          "#7201a8"
                        ],
                        [
                          0.3333333333333333,
                          "#9c179e"
                        ],
                        [
                          0.4444444444444444,
                          "#bd3786"
                        ],
                        [
                          0.5555555555555556,
                          "#d8576b"
                        ],
                        [
                          0.6666666666666666,
                          "#ed7953"
                        ],
                        [
                          0.7777777777777778,
                          "#fb9f3a"
                        ],
                        [
                          0.8888888888888888,
                          "#fdca26"
                        ],
                        [
                          1,
                          "#f0f921"
                        ]
                      ]
                    },
                    "colorway": [
                      "#636efa",
                      "#EF553B",
                      "#00cc96",
                      "#ab63fa",
                      "#FFA15A",
                      "#19d3f3",
                      "#FF6692",
                      "#B6E880",
                      "#FF97FF",
                      "#FECB52"
                    ],
                    "font": {
                      "color": "#2a3f5f"
                    },
                    "geo": {
                      "bgcolor": "white",
                      "lakecolor": "white",
                      "landcolor": "#E5ECF6",
                      "showlakes": true,
                      "showland": true,
                      "subunitcolor": "white"
                    },
                    "hoverlabel": {
                      "align": "left"
                    },
                    "hovermode": "closest",
                    "mapbox": {
                      "style": "light"
                    },
                    "paper_bgcolor": "white",
                    "plot_bgcolor": "#E5ECF6",
                    "polar": {
                      "angularaxis": {
                        "gridcolor": "white",
                        "linecolor": "white",
                        "ticks": ""
                      },
                      "bgcolor": "#E5ECF6",
                      "radialaxis": {
                        "gridcolor": "white",
                        "linecolor": "white",
                        "ticks": ""
                      }
                    },
                    "scene": {
                      "xaxis": {
                        "backgroundcolor": "#E5ECF6",
                        "gridcolor": "white",
                        "gridwidth": 2,
                        "linecolor": "white",
                        "showbackground": true,
                        "ticks": "",
                        "zerolinecolor": "white"
                      },
                      "yaxis": {
                        "backgroundcolor": "#E5ECF6",
                        "gridcolor": "white",
                        "gridwidth": 2,
                        "linecolor": "white",
                        "showbackground": true,
                        "ticks": "",
                        "zerolinecolor": "white"
                      },
                      "zaxis": {
                        "backgroundcolor": "#E5ECF6",
                        "gridcolor": "white",
                        "gridwidth": 2,
                        "linecolor": "white",
                        "showbackground": true,
                        "ticks": "",
                        "zerolinecolor": "white"
                      }
                    },
                    "shapedefaults": {
                      "line": {
                        "color": "#2a3f5f"
                      }
                    },
                    "ternary": {
                      "aaxis": {
                        "gridcolor": "white",
                        "linecolor": "white",
                        "ticks": ""
                      },
                      "baxis": {
                        "gridcolor": "white",
                        "linecolor": "white",
                        "ticks": ""
                      },
                      "bgcolor": "#E5ECF6",
                      "caxis": {
                        "gridcolor": "white",
                        "linecolor": "white",
                        "ticks": ""
                      }
                    },
                    "title": {
                      "x": 0.05
                    },
                    "xaxis": {
                      "automargin": true,
                      "gridcolor": "white",
                      "linecolor": "white",
                      "ticks": "",
                      "title": {
                        "standoff": 15
                      },
                      "zerolinecolor": "white",
                      "zerolinewidth": 2
                    },
                    "yaxis": {
                      "automargin": true,
                      "gridcolor": "white",
                      "linecolor": "white",
                      "ticks": "",
                      "title": {
                        "standoff": 15
                      },
                      "zerolinecolor": "white",
                      "zerolinewidth": 2
                    }
                  }
                },
                "title": {
                  "text": "Skin Care Product Type",
                  "x": 0.5,
                  "xanchor": "center",
                  "y": 0.95,
                  "yanchor": "top"
                }
              }
            }
          },
          "metadata": {},
          "output_type": "display_data"
        }
      ],
      "source": [
        "fig = px.pie(pd_type, values = 'Count', color = pd_type.index, names = pd_type.index,\n",
        "             color_discrete_sequence = ['#003049','#D62828', '#F77F00', '#FCBF49', '#E9D8A6'], hole = 0.5)\n",
        "fig.update_traces(textposition = 'outside', textfont = dict(color = 'dark blue', size = 15), textinfo = 'label+percent', pull = [0.2,0,0,0], rotation = 10)\n",
        "fig.add_annotation (text = 'Product Type', showarrow = False, font = dict(size = 12, color='dark blue'))\n",
        "fig.update_layout(title={'text':'Skin Care Product Type', 'y':0.95, 'x':0.5, 'xanchor': 'center', 'yanchor': 'top'})\n",
        "fig.show()"
      ]
    },
    {
      "cell_type": "code",
      "execution_count": 29,
      "metadata": {
        "colab": {
          "base_uri": "https://localhost:8080/",
          "height": 519
        },
        "id": "bSr626obZlen",
        "outputId": "fe34c6a9-8955-48e8-8154-5bec8a04abf6"
      },
      "outputs": [
        {
          "name": "stdout",
          "output_type": "stream",
          "text": [
            "                            Skin_type  Counts  Percent%\n",
            "0  Normal, Dry, Combination, and Oily     733     78.14\n",
            "1      Normal, Combination, and Oily       37      3.94\n",
            "2       Normal, Dry, and Combination       19      2.03\n",
            "3                     Normal and Dry       13      1.39\n",
            "4               Combination and Oily       11      1.17\n"
          ]
        }
      ],
      "source": [
        "# Skin Type That Suitable For the Product\n",
        "counts = skincare['skin_type'].value_counts()\n",
        "count_percentage = skincare['skin_type'].value_counts(1)*100\n",
        "counts_df = pd.DataFrame({'Skin_type':counts.index,'Counts':counts.values,'Percent%':np.round(count_percentage.values,2)})\n",
        "counts_df = counts_df.sort_values(by='Counts', ascending=False)\n",
        "print(counts_df.head(5))"
      ]
    },
    {
      "cell_type": "code",
      "execution_count": 33,
      "metadata": {},
      "outputs": [
        {
          "data": {
            "application/vnd.plotly.v1+json": {
              "config": {
                "plotlyServerURL": "https://plot.ly"
              },
              "data": [
                {
                  "alignmentgroup": "True",
                  "hovertemplate": "Skin_type=%{x}<br>Counts=%{marker.color}<extra></extra>",
                  "legendgroup": "",
                  "marker": {
                    "color": [
                      733,
                      37,
                      19,
                      13,
                      11
                    ],
                    "coloraxis": "coloraxis",
                    "pattern": {
                      "shape": ""
                    }
                  },
                  "name": "",
                  "offsetgroup": "",
                  "orientation": "v",
                  "showlegend": false,
                  "textposition": "auto",
                  "texttemplate": "%{y}",
                  "type": "bar",
                  "x": [
                    "Normal, Dry, Combination, and Oily",
                    "Normal, Combination, and Oily ",
                    "Normal, Dry, and Combination ",
                    "Normal and Dry ",
                    "Combination and Oily "
                  ],
                  "xaxis": "x",
                  "y": [
                    733,
                    37,
                    19,
                    13,
                    11
                  ],
                  "yaxis": "y"
                }
              ],
              "layout": {
                "barmode": "relative",
                "coloraxis": {
                  "colorbar": {
                    "title": {
                      "text": "Counts"
                    }
                  },
                  "colorscale": [
                    [
                      0,
                      "#fcffa4"
                    ],
                    [
                      0.1111111111111111,
                      "#f7d13d"
                    ],
                    [
                      0.2222222222222222,
                      "#fb9b06"
                    ],
                    [
                      0.3333333333333333,
                      "#ed6925"
                    ],
                    [
                      0.4444444444444444,
                      "#cf4446"
                    ],
                    [
                      0.5555555555555556,
                      "#a52c60"
                    ],
                    [
                      0.6666666666666666,
                      "#781c6d"
                    ],
                    [
                      0.7777777777777778,
                      "#4a0c6b"
                    ],
                    [
                      0.8888888888888888,
                      "#1b0c41"
                    ],
                    [
                      1,
                      "#000004"
                    ]
                  ]
                },
                "height": 600,
                "legend": {
                  "tracegroupgap": 0
                },
                "plot_bgcolor": "#FFFCF2",
                "template": {
                  "data": {
                    "bar": [
                      {
                        "error_x": {
                          "color": "#2a3f5f"
                        },
                        "error_y": {
                          "color": "#2a3f5f"
                        },
                        "marker": {
                          "line": {
                            "color": "#E5ECF6",
                            "width": 0.5
                          },
                          "pattern": {
                            "fillmode": "overlay",
                            "size": 10,
                            "solidity": 0.2
                          }
                        },
                        "type": "bar"
                      }
                    ],
                    "barpolar": [
                      {
                        "marker": {
                          "line": {
                            "color": "#E5ECF6",
                            "width": 0.5
                          },
                          "pattern": {
                            "fillmode": "overlay",
                            "size": 10,
                            "solidity": 0.2
                          }
                        },
                        "type": "barpolar"
                      }
                    ],
                    "carpet": [
                      {
                        "aaxis": {
                          "endlinecolor": "#2a3f5f",
                          "gridcolor": "white",
                          "linecolor": "white",
                          "minorgridcolor": "white",
                          "startlinecolor": "#2a3f5f"
                        },
                        "baxis": {
                          "endlinecolor": "#2a3f5f",
                          "gridcolor": "white",
                          "linecolor": "white",
                          "minorgridcolor": "white",
                          "startlinecolor": "#2a3f5f"
                        },
                        "type": "carpet"
                      }
                    ],
                    "choropleth": [
                      {
                        "colorbar": {
                          "outlinewidth": 0,
                          "ticks": ""
                        },
                        "type": "choropleth"
                      }
                    ],
                    "contour": [
                      {
                        "colorbar": {
                          "outlinewidth": 0,
                          "ticks": ""
                        },
                        "colorscale": [
                          [
                            0,
                            "#0d0887"
                          ],
                          [
                            0.1111111111111111,
                            "#46039f"
                          ],
                          [
                            0.2222222222222222,
                            "#7201a8"
                          ],
                          [
                            0.3333333333333333,
                            "#9c179e"
                          ],
                          [
                            0.4444444444444444,
                            "#bd3786"
                          ],
                          [
                            0.5555555555555556,
                            "#d8576b"
                          ],
                          [
                            0.6666666666666666,
                            "#ed7953"
                          ],
                          [
                            0.7777777777777778,
                            "#fb9f3a"
                          ],
                          [
                            0.8888888888888888,
                            "#fdca26"
                          ],
                          [
                            1,
                            "#f0f921"
                          ]
                        ],
                        "type": "contour"
                      }
                    ],
                    "contourcarpet": [
                      {
                        "colorbar": {
                          "outlinewidth": 0,
                          "ticks": ""
                        },
                        "type": "contourcarpet"
                      }
                    ],
                    "heatmap": [
                      {
                        "colorbar": {
                          "outlinewidth": 0,
                          "ticks": ""
                        },
                        "colorscale": [
                          [
                            0,
                            "#0d0887"
                          ],
                          [
                            0.1111111111111111,
                            "#46039f"
                          ],
                          [
                            0.2222222222222222,
                            "#7201a8"
                          ],
                          [
                            0.3333333333333333,
                            "#9c179e"
                          ],
                          [
                            0.4444444444444444,
                            "#bd3786"
                          ],
                          [
                            0.5555555555555556,
                            "#d8576b"
                          ],
                          [
                            0.6666666666666666,
                            "#ed7953"
                          ],
                          [
                            0.7777777777777778,
                            "#fb9f3a"
                          ],
                          [
                            0.8888888888888888,
                            "#fdca26"
                          ],
                          [
                            1,
                            "#f0f921"
                          ]
                        ],
                        "type": "heatmap"
                      }
                    ],
                    "heatmapgl": [
                      {
                        "colorbar": {
                          "outlinewidth": 0,
                          "ticks": ""
                        },
                        "colorscale": [
                          [
                            0,
                            "#0d0887"
                          ],
                          [
                            0.1111111111111111,
                            "#46039f"
                          ],
                          [
                            0.2222222222222222,
                            "#7201a8"
                          ],
                          [
                            0.3333333333333333,
                            "#9c179e"
                          ],
                          [
                            0.4444444444444444,
                            "#bd3786"
                          ],
                          [
                            0.5555555555555556,
                            "#d8576b"
                          ],
                          [
                            0.6666666666666666,
                            "#ed7953"
                          ],
                          [
                            0.7777777777777778,
                            "#fb9f3a"
                          ],
                          [
                            0.8888888888888888,
                            "#fdca26"
                          ],
                          [
                            1,
                            "#f0f921"
                          ]
                        ],
                        "type": "heatmapgl"
                      }
                    ],
                    "histogram": [
                      {
                        "marker": {
                          "pattern": {
                            "fillmode": "overlay",
                            "size": 10,
                            "solidity": 0.2
                          }
                        },
                        "type": "histogram"
                      }
                    ],
                    "histogram2d": [
                      {
                        "colorbar": {
                          "outlinewidth": 0,
                          "ticks": ""
                        },
                        "colorscale": [
                          [
                            0,
                            "#0d0887"
                          ],
                          [
                            0.1111111111111111,
                            "#46039f"
                          ],
                          [
                            0.2222222222222222,
                            "#7201a8"
                          ],
                          [
                            0.3333333333333333,
                            "#9c179e"
                          ],
                          [
                            0.4444444444444444,
                            "#bd3786"
                          ],
                          [
                            0.5555555555555556,
                            "#d8576b"
                          ],
                          [
                            0.6666666666666666,
                            "#ed7953"
                          ],
                          [
                            0.7777777777777778,
                            "#fb9f3a"
                          ],
                          [
                            0.8888888888888888,
                            "#fdca26"
                          ],
                          [
                            1,
                            "#f0f921"
                          ]
                        ],
                        "type": "histogram2d"
                      }
                    ],
                    "histogram2dcontour": [
                      {
                        "colorbar": {
                          "outlinewidth": 0,
                          "ticks": ""
                        },
                        "colorscale": [
                          [
                            0,
                            "#0d0887"
                          ],
                          [
                            0.1111111111111111,
                            "#46039f"
                          ],
                          [
                            0.2222222222222222,
                            "#7201a8"
                          ],
                          [
                            0.3333333333333333,
                            "#9c179e"
                          ],
                          [
                            0.4444444444444444,
                            "#bd3786"
                          ],
                          [
                            0.5555555555555556,
                            "#d8576b"
                          ],
                          [
                            0.6666666666666666,
                            "#ed7953"
                          ],
                          [
                            0.7777777777777778,
                            "#fb9f3a"
                          ],
                          [
                            0.8888888888888888,
                            "#fdca26"
                          ],
                          [
                            1,
                            "#f0f921"
                          ]
                        ],
                        "type": "histogram2dcontour"
                      }
                    ],
                    "mesh3d": [
                      {
                        "colorbar": {
                          "outlinewidth": 0,
                          "ticks": ""
                        },
                        "type": "mesh3d"
                      }
                    ],
                    "parcoords": [
                      {
                        "line": {
                          "colorbar": {
                            "outlinewidth": 0,
                            "ticks": ""
                          }
                        },
                        "type": "parcoords"
                      }
                    ],
                    "pie": [
                      {
                        "automargin": true,
                        "type": "pie"
                      }
                    ],
                    "scatter": [
                      {
                        "fillpattern": {
                          "fillmode": "overlay",
                          "size": 10,
                          "solidity": 0.2
                        },
                        "type": "scatter"
                      }
                    ],
                    "scatter3d": [
                      {
                        "line": {
                          "colorbar": {
                            "outlinewidth": 0,
                            "ticks": ""
                          }
                        },
                        "marker": {
                          "colorbar": {
                            "outlinewidth": 0,
                            "ticks": ""
                          }
                        },
                        "type": "scatter3d"
                      }
                    ],
                    "scattercarpet": [
                      {
                        "marker": {
                          "colorbar": {
                            "outlinewidth": 0,
                            "ticks": ""
                          }
                        },
                        "type": "scattercarpet"
                      }
                    ],
                    "scattergeo": [
                      {
                        "marker": {
                          "colorbar": {
                            "outlinewidth": 0,
                            "ticks": ""
                          }
                        },
                        "type": "scattergeo"
                      }
                    ],
                    "scattergl": [
                      {
                        "marker": {
                          "colorbar": {
                            "outlinewidth": 0,
                            "ticks": ""
                          }
                        },
                        "type": "scattergl"
                      }
                    ],
                    "scattermapbox": [
                      {
                        "marker": {
                          "colorbar": {
                            "outlinewidth": 0,
                            "ticks": ""
                          }
                        },
                        "type": "scattermapbox"
                      }
                    ],
                    "scatterpolar": [
                      {
                        "marker": {
                          "colorbar": {
                            "outlinewidth": 0,
                            "ticks": ""
                          }
                        },
                        "type": "scatterpolar"
                      }
                    ],
                    "scatterpolargl": [
                      {
                        "marker": {
                          "colorbar": {
                            "outlinewidth": 0,
                            "ticks": ""
                          }
                        },
                        "type": "scatterpolargl"
                      }
                    ],
                    "scatterternary": [
                      {
                        "marker": {
                          "colorbar": {
                            "outlinewidth": 0,
                            "ticks": ""
                          }
                        },
                        "type": "scatterternary"
                      }
                    ],
                    "surface": [
                      {
                        "colorbar": {
                          "outlinewidth": 0,
                          "ticks": ""
                        },
                        "colorscale": [
                          [
                            0,
                            "#0d0887"
                          ],
                          [
                            0.1111111111111111,
                            "#46039f"
                          ],
                          [
                            0.2222222222222222,
                            "#7201a8"
                          ],
                          [
                            0.3333333333333333,
                            "#9c179e"
                          ],
                          [
                            0.4444444444444444,
                            "#bd3786"
                          ],
                          [
                            0.5555555555555556,
                            "#d8576b"
                          ],
                          [
                            0.6666666666666666,
                            "#ed7953"
                          ],
                          [
                            0.7777777777777778,
                            "#fb9f3a"
                          ],
                          [
                            0.8888888888888888,
                            "#fdca26"
                          ],
                          [
                            1,
                            "#f0f921"
                          ]
                        ],
                        "type": "surface"
                      }
                    ],
                    "table": [
                      {
                        "cells": {
                          "fill": {
                            "color": "#EBF0F8"
                          },
                          "line": {
                            "color": "white"
                          }
                        },
                        "header": {
                          "fill": {
                            "color": "#C8D4E3"
                          },
                          "line": {
                            "color": "white"
                          }
                        },
                        "type": "table"
                      }
                    ]
                  },
                  "layout": {
                    "annotationdefaults": {
                      "arrowcolor": "#2a3f5f",
                      "arrowhead": 0,
                      "arrowwidth": 1
                    },
                    "autotypenumbers": "strict",
                    "coloraxis": {
                      "colorbar": {
                        "outlinewidth": 0,
                        "ticks": ""
                      }
                    },
                    "colorscale": {
                      "diverging": [
                        [
                          0,
                          "#8e0152"
                        ],
                        [
                          0.1,
                          "#c51b7d"
                        ],
                        [
                          0.2,
                          "#de77ae"
                        ],
                        [
                          0.3,
                          "#f1b6da"
                        ],
                        [
                          0.4,
                          "#fde0ef"
                        ],
                        [
                          0.5,
                          "#f7f7f7"
                        ],
                        [
                          0.6,
                          "#e6f5d0"
                        ],
                        [
                          0.7,
                          "#b8e186"
                        ],
                        [
                          0.8,
                          "#7fbc41"
                        ],
                        [
                          0.9,
                          "#4d9221"
                        ],
                        [
                          1,
                          "#276419"
                        ]
                      ],
                      "sequential": [
                        [
                          0,
                          "#0d0887"
                        ],
                        [
                          0.1111111111111111,
                          "#46039f"
                        ],
                        [
                          0.2222222222222222,
                          "#7201a8"
                        ],
                        [
                          0.3333333333333333,
                          "#9c179e"
                        ],
                        [
                          0.4444444444444444,
                          "#bd3786"
                        ],
                        [
                          0.5555555555555556,
                          "#d8576b"
                        ],
                        [
                          0.6666666666666666,
                          "#ed7953"
                        ],
                        [
                          0.7777777777777778,
                          "#fb9f3a"
                        ],
                        [
                          0.8888888888888888,
                          "#fdca26"
                        ],
                        [
                          1,
                          "#f0f921"
                        ]
                      ],
                      "sequentialminus": [
                        [
                          0,
                          "#0d0887"
                        ],
                        [
                          0.1111111111111111,
                          "#46039f"
                        ],
                        [
                          0.2222222222222222,
                          "#7201a8"
                        ],
                        [
                          0.3333333333333333,
                          "#9c179e"
                        ],
                        [
                          0.4444444444444444,
                          "#bd3786"
                        ],
                        [
                          0.5555555555555556,
                          "#d8576b"
                        ],
                        [
                          0.6666666666666666,
                          "#ed7953"
                        ],
                        [
                          0.7777777777777778,
                          "#fb9f3a"
                        ],
                        [
                          0.8888888888888888,
                          "#fdca26"
                        ],
                        [
                          1,
                          "#f0f921"
                        ]
                      ]
                    },
                    "colorway": [
                      "#636efa",
                      "#EF553B",
                      "#00cc96",
                      "#ab63fa",
                      "#FFA15A",
                      "#19d3f3",
                      "#FF6692",
                      "#B6E880",
                      "#FF97FF",
                      "#FECB52"
                    ],
                    "font": {
                      "color": "#2a3f5f"
                    },
                    "geo": {
                      "bgcolor": "white",
                      "lakecolor": "white",
                      "landcolor": "#E5ECF6",
                      "showlakes": true,
                      "showland": true,
                      "subunitcolor": "white"
                    },
                    "hoverlabel": {
                      "align": "left"
                    },
                    "hovermode": "closest",
                    "mapbox": {
                      "style": "light"
                    },
                    "paper_bgcolor": "white",
                    "plot_bgcolor": "#E5ECF6",
                    "polar": {
                      "angularaxis": {
                        "gridcolor": "white",
                        "linecolor": "white",
                        "ticks": ""
                      },
                      "bgcolor": "#E5ECF6",
                      "radialaxis": {
                        "gridcolor": "white",
                        "linecolor": "white",
                        "ticks": ""
                      }
                    },
                    "scene": {
                      "xaxis": {
                        "backgroundcolor": "#E5ECF6",
                        "gridcolor": "white",
                        "gridwidth": 2,
                        "linecolor": "white",
                        "showbackground": true,
                        "ticks": "",
                        "zerolinecolor": "white"
                      },
                      "yaxis": {
                        "backgroundcolor": "#E5ECF6",
                        "gridcolor": "white",
                        "gridwidth": 2,
                        "linecolor": "white",
                        "showbackground": true,
                        "ticks": "",
                        "zerolinecolor": "white"
                      },
                      "zaxis": {
                        "backgroundcolor": "#E5ECF6",
                        "gridcolor": "white",
                        "gridwidth": 2,
                        "linecolor": "white",
                        "showbackground": true,
                        "ticks": "",
                        "zerolinecolor": "white"
                      }
                    },
                    "shapedefaults": {
                      "line": {
                        "color": "#2a3f5f"
                      }
                    },
                    "ternary": {
                      "aaxis": {
                        "gridcolor": "white",
                        "linecolor": "white",
                        "ticks": ""
                      },
                      "baxis": {
                        "gridcolor": "white",
                        "linecolor": "white",
                        "ticks": ""
                      },
                      "bgcolor": "#E5ECF6",
                      "caxis": {
                        "gridcolor": "white",
                        "linecolor": "white",
                        "ticks": ""
                      }
                    },
                    "title": {
                      "x": 0.05
                    },
                    "xaxis": {
                      "automargin": true,
                      "gridcolor": "white",
                      "linecolor": "white",
                      "ticks": "",
                      "title": {
                        "standoff": 15
                      },
                      "zerolinecolor": "white",
                      "zerolinewidth": 2
                    },
                    "yaxis": {
                      "automargin": true,
                      "gridcolor": "white",
                      "linecolor": "white",
                      "ticks": "",
                      "title": {
                        "standoff": 15
                      },
                      "zerolinecolor": "white",
                      "zerolinewidth": 2
                    }
                  }
                },
                "title": {
                  "text": "Count of Skin Type That Suitable For The Product"
                },
                "width": 800,
                "xaxis": {
                  "anchor": "y",
                  "domain": [
                    0,
                    1
                  ],
                  "tickangle": 15,
                  "title": {
                    "text": "Skin_type"
                  }
                },
                "yaxis": {
                  "anchor": "x",
                  "domain": [
                    0,
                    1
                  ],
                  "title": {
                    "text": "Counts"
                  }
                }
              }
            }
          },
          "metadata": {},
          "output_type": "display_data"
        }
      ],
      "source": [
        "# Skin Type\n",
        "top_5 = counts_df.head(5)\n",
        "sns.set(style='white')\n",
        "fig = px.bar(data_frame=top_5, x='Skin_type', y='Counts',\n",
        "       color='Counts', color_continuous_scale='Inferno_r',\n",
        "       width=800, height=600,\n",
        "       text_auto=True, title=f'Count of Skin Type That Suitable For The Product')\n",
        "fig.update_layout(plot_bgcolor='#FFFCF2', xaxis_tickangle = 15)\n",
        "fig.show()"
      ]
    },
    {
      "cell_type": "code",
      "execution_count": 31,
      "metadata": {
        "colab": {
          "base_uri": "https://localhost:8080/",
          "height": 617
        },
        "id": "WMujC7-lUYnL",
        "outputId": "3045f32f-df5e-4e62-932f-be737e11cce7"
      },
      "outputs": [
        {
          "data": {
            "application/vnd.plotly.v1+json": {
              "config": {
                "plotlyServerURL": "https://plot.ly"
              },
              "data": [
                {
                  "alignmentgroup": "True",
                  "hovertemplate": "Skin_type=%{x}<br>Counts=%{marker.color}<extra></extra>",
                  "legendgroup": "",
                  "marker": {
                    "color": [
                      733,
                      37,
                      19,
                      13,
                      11,
                      10,
                      6
                    ],
                    "coloraxis": "coloraxis",
                    "pattern": {
                      "shape": ""
                    }
                  },
                  "name": "",
                  "offsetgroup": "",
                  "orientation": "v",
                  "showlegend": false,
                  "textposition": "auto",
                  "texttemplate": "%{y}",
                  "type": "bar",
                  "x": [
                    "Normal, Dry, Combination, and Oily",
                    "Normal, Combination, and Oily ",
                    "Normal, Dry, and Combination ",
                    "Normal and Dry ",
                    "Combination and Oily ",
                    "Normal and Dry",
                    "nbsp;Normal, Dry, Combination, and Oily"
                  ],
                  "xaxis": "x",
                  "y": [
                    733,
                    37,
                    19,
                    13,
                    11,
                    10,
                    6
                  ],
                  "yaxis": "y"
                }
              ],
              "layout": {
                "barmode": "relative",
                "coloraxis": {
                  "colorbar": {
                    "title": {
                      "text": "Counts"
                    }
                  },
                  "colorscale": [
                    [
                      0,
                      "#fcffa4"
                    ],
                    [
                      0.1111111111111111,
                      "#f7d13d"
                    ],
                    [
                      0.2222222222222222,
                      "#fb9b06"
                    ],
                    [
                      0.3333333333333333,
                      "#ed6925"
                    ],
                    [
                      0.4444444444444444,
                      "#cf4446"
                    ],
                    [
                      0.5555555555555556,
                      "#a52c60"
                    ],
                    [
                      0.6666666666666666,
                      "#781c6d"
                    ],
                    [
                      0.7777777777777778,
                      "#4a0c6b"
                    ],
                    [
                      0.8888888888888888,
                      "#1b0c41"
                    ],
                    [
                      1,
                      "#000004"
                    ]
                  ]
                },
                "height": 600,
                "legend": {
                  "tracegroupgap": 0
                },
                "plot_bgcolor": "#FFFCF2",
                "template": {
                  "data": {
                    "bar": [
                      {
                        "error_x": {
                          "color": "#2a3f5f"
                        },
                        "error_y": {
                          "color": "#2a3f5f"
                        },
                        "marker": {
                          "line": {
                            "color": "#E5ECF6",
                            "width": 0.5
                          },
                          "pattern": {
                            "fillmode": "overlay",
                            "size": 10,
                            "solidity": 0.2
                          }
                        },
                        "type": "bar"
                      }
                    ],
                    "barpolar": [
                      {
                        "marker": {
                          "line": {
                            "color": "#E5ECF6",
                            "width": 0.5
                          },
                          "pattern": {
                            "fillmode": "overlay",
                            "size": 10,
                            "solidity": 0.2
                          }
                        },
                        "type": "barpolar"
                      }
                    ],
                    "carpet": [
                      {
                        "aaxis": {
                          "endlinecolor": "#2a3f5f",
                          "gridcolor": "white",
                          "linecolor": "white",
                          "minorgridcolor": "white",
                          "startlinecolor": "#2a3f5f"
                        },
                        "baxis": {
                          "endlinecolor": "#2a3f5f",
                          "gridcolor": "white",
                          "linecolor": "white",
                          "minorgridcolor": "white",
                          "startlinecolor": "#2a3f5f"
                        },
                        "type": "carpet"
                      }
                    ],
                    "choropleth": [
                      {
                        "colorbar": {
                          "outlinewidth": 0,
                          "ticks": ""
                        },
                        "type": "choropleth"
                      }
                    ],
                    "contour": [
                      {
                        "colorbar": {
                          "outlinewidth": 0,
                          "ticks": ""
                        },
                        "colorscale": [
                          [
                            0,
                            "#0d0887"
                          ],
                          [
                            0.1111111111111111,
                            "#46039f"
                          ],
                          [
                            0.2222222222222222,
                            "#7201a8"
                          ],
                          [
                            0.3333333333333333,
                            "#9c179e"
                          ],
                          [
                            0.4444444444444444,
                            "#bd3786"
                          ],
                          [
                            0.5555555555555556,
                            "#d8576b"
                          ],
                          [
                            0.6666666666666666,
                            "#ed7953"
                          ],
                          [
                            0.7777777777777778,
                            "#fb9f3a"
                          ],
                          [
                            0.8888888888888888,
                            "#fdca26"
                          ],
                          [
                            1,
                            "#f0f921"
                          ]
                        ],
                        "type": "contour"
                      }
                    ],
                    "contourcarpet": [
                      {
                        "colorbar": {
                          "outlinewidth": 0,
                          "ticks": ""
                        },
                        "type": "contourcarpet"
                      }
                    ],
                    "heatmap": [
                      {
                        "colorbar": {
                          "outlinewidth": 0,
                          "ticks": ""
                        },
                        "colorscale": [
                          [
                            0,
                            "#0d0887"
                          ],
                          [
                            0.1111111111111111,
                            "#46039f"
                          ],
                          [
                            0.2222222222222222,
                            "#7201a8"
                          ],
                          [
                            0.3333333333333333,
                            "#9c179e"
                          ],
                          [
                            0.4444444444444444,
                            "#bd3786"
                          ],
                          [
                            0.5555555555555556,
                            "#d8576b"
                          ],
                          [
                            0.6666666666666666,
                            "#ed7953"
                          ],
                          [
                            0.7777777777777778,
                            "#fb9f3a"
                          ],
                          [
                            0.8888888888888888,
                            "#fdca26"
                          ],
                          [
                            1,
                            "#f0f921"
                          ]
                        ],
                        "type": "heatmap"
                      }
                    ],
                    "heatmapgl": [
                      {
                        "colorbar": {
                          "outlinewidth": 0,
                          "ticks": ""
                        },
                        "colorscale": [
                          [
                            0,
                            "#0d0887"
                          ],
                          [
                            0.1111111111111111,
                            "#46039f"
                          ],
                          [
                            0.2222222222222222,
                            "#7201a8"
                          ],
                          [
                            0.3333333333333333,
                            "#9c179e"
                          ],
                          [
                            0.4444444444444444,
                            "#bd3786"
                          ],
                          [
                            0.5555555555555556,
                            "#d8576b"
                          ],
                          [
                            0.6666666666666666,
                            "#ed7953"
                          ],
                          [
                            0.7777777777777778,
                            "#fb9f3a"
                          ],
                          [
                            0.8888888888888888,
                            "#fdca26"
                          ],
                          [
                            1,
                            "#f0f921"
                          ]
                        ],
                        "type": "heatmapgl"
                      }
                    ],
                    "histogram": [
                      {
                        "marker": {
                          "pattern": {
                            "fillmode": "overlay",
                            "size": 10,
                            "solidity": 0.2
                          }
                        },
                        "type": "histogram"
                      }
                    ],
                    "histogram2d": [
                      {
                        "colorbar": {
                          "outlinewidth": 0,
                          "ticks": ""
                        },
                        "colorscale": [
                          [
                            0,
                            "#0d0887"
                          ],
                          [
                            0.1111111111111111,
                            "#46039f"
                          ],
                          [
                            0.2222222222222222,
                            "#7201a8"
                          ],
                          [
                            0.3333333333333333,
                            "#9c179e"
                          ],
                          [
                            0.4444444444444444,
                            "#bd3786"
                          ],
                          [
                            0.5555555555555556,
                            "#d8576b"
                          ],
                          [
                            0.6666666666666666,
                            "#ed7953"
                          ],
                          [
                            0.7777777777777778,
                            "#fb9f3a"
                          ],
                          [
                            0.8888888888888888,
                            "#fdca26"
                          ],
                          [
                            1,
                            "#f0f921"
                          ]
                        ],
                        "type": "histogram2d"
                      }
                    ],
                    "histogram2dcontour": [
                      {
                        "colorbar": {
                          "outlinewidth": 0,
                          "ticks": ""
                        },
                        "colorscale": [
                          [
                            0,
                            "#0d0887"
                          ],
                          [
                            0.1111111111111111,
                            "#46039f"
                          ],
                          [
                            0.2222222222222222,
                            "#7201a8"
                          ],
                          [
                            0.3333333333333333,
                            "#9c179e"
                          ],
                          [
                            0.4444444444444444,
                            "#bd3786"
                          ],
                          [
                            0.5555555555555556,
                            "#d8576b"
                          ],
                          [
                            0.6666666666666666,
                            "#ed7953"
                          ],
                          [
                            0.7777777777777778,
                            "#fb9f3a"
                          ],
                          [
                            0.8888888888888888,
                            "#fdca26"
                          ],
                          [
                            1,
                            "#f0f921"
                          ]
                        ],
                        "type": "histogram2dcontour"
                      }
                    ],
                    "mesh3d": [
                      {
                        "colorbar": {
                          "outlinewidth": 0,
                          "ticks": ""
                        },
                        "type": "mesh3d"
                      }
                    ],
                    "parcoords": [
                      {
                        "line": {
                          "colorbar": {
                            "outlinewidth": 0,
                            "ticks": ""
                          }
                        },
                        "type": "parcoords"
                      }
                    ],
                    "pie": [
                      {
                        "automargin": true,
                        "type": "pie"
                      }
                    ],
                    "scatter": [
                      {
                        "fillpattern": {
                          "fillmode": "overlay",
                          "size": 10,
                          "solidity": 0.2
                        },
                        "type": "scatter"
                      }
                    ],
                    "scatter3d": [
                      {
                        "line": {
                          "colorbar": {
                            "outlinewidth": 0,
                            "ticks": ""
                          }
                        },
                        "marker": {
                          "colorbar": {
                            "outlinewidth": 0,
                            "ticks": ""
                          }
                        },
                        "type": "scatter3d"
                      }
                    ],
                    "scattercarpet": [
                      {
                        "marker": {
                          "colorbar": {
                            "outlinewidth": 0,
                            "ticks": ""
                          }
                        },
                        "type": "scattercarpet"
                      }
                    ],
                    "scattergeo": [
                      {
                        "marker": {
                          "colorbar": {
                            "outlinewidth": 0,
                            "ticks": ""
                          }
                        },
                        "type": "scattergeo"
                      }
                    ],
                    "scattergl": [
                      {
                        "marker": {
                          "colorbar": {
                            "outlinewidth": 0,
                            "ticks": ""
                          }
                        },
                        "type": "scattergl"
                      }
                    ],
                    "scattermapbox": [
                      {
                        "marker": {
                          "colorbar": {
                            "outlinewidth": 0,
                            "ticks": ""
                          }
                        },
                        "type": "scattermapbox"
                      }
                    ],
                    "scatterpolar": [
                      {
                        "marker": {
                          "colorbar": {
                            "outlinewidth": 0,
                            "ticks": ""
                          }
                        },
                        "type": "scatterpolar"
                      }
                    ],
                    "scatterpolargl": [
                      {
                        "marker": {
                          "colorbar": {
                            "outlinewidth": 0,
                            "ticks": ""
                          }
                        },
                        "type": "scatterpolargl"
                      }
                    ],
                    "scatterternary": [
                      {
                        "marker": {
                          "colorbar": {
                            "outlinewidth": 0,
                            "ticks": ""
                          }
                        },
                        "type": "scatterternary"
                      }
                    ],
                    "surface": [
                      {
                        "colorbar": {
                          "outlinewidth": 0,
                          "ticks": ""
                        },
                        "colorscale": [
                          [
                            0,
                            "#0d0887"
                          ],
                          [
                            0.1111111111111111,
                            "#46039f"
                          ],
                          [
                            0.2222222222222222,
                            "#7201a8"
                          ],
                          [
                            0.3333333333333333,
                            "#9c179e"
                          ],
                          [
                            0.4444444444444444,
                            "#bd3786"
                          ],
                          [
                            0.5555555555555556,
                            "#d8576b"
                          ],
                          [
                            0.6666666666666666,
                            "#ed7953"
                          ],
                          [
                            0.7777777777777778,
                            "#fb9f3a"
                          ],
                          [
                            0.8888888888888888,
                            "#fdca26"
                          ],
                          [
                            1,
                            "#f0f921"
                          ]
                        ],
                        "type": "surface"
                      }
                    ],
                    "table": [
                      {
                        "cells": {
                          "fill": {
                            "color": "#EBF0F8"
                          },
                          "line": {
                            "color": "white"
                          }
                        },
                        "header": {
                          "fill": {
                            "color": "#C8D4E3"
                          },
                          "line": {
                            "color": "white"
                          }
                        },
                        "type": "table"
                      }
                    ]
                  },
                  "layout": {
                    "annotationdefaults": {
                      "arrowcolor": "#2a3f5f",
                      "arrowhead": 0,
                      "arrowwidth": 1
                    },
                    "autotypenumbers": "strict",
                    "coloraxis": {
                      "colorbar": {
                        "outlinewidth": 0,
                        "ticks": ""
                      }
                    },
                    "colorscale": {
                      "diverging": [
                        [
                          0,
                          "#8e0152"
                        ],
                        [
                          0.1,
                          "#c51b7d"
                        ],
                        [
                          0.2,
                          "#de77ae"
                        ],
                        [
                          0.3,
                          "#f1b6da"
                        ],
                        [
                          0.4,
                          "#fde0ef"
                        ],
                        [
                          0.5,
                          "#f7f7f7"
                        ],
                        [
                          0.6,
                          "#e6f5d0"
                        ],
                        [
                          0.7,
                          "#b8e186"
                        ],
                        [
                          0.8,
                          "#7fbc41"
                        ],
                        [
                          0.9,
                          "#4d9221"
                        ],
                        [
                          1,
                          "#276419"
                        ]
                      ],
                      "sequential": [
                        [
                          0,
                          "#0d0887"
                        ],
                        [
                          0.1111111111111111,
                          "#46039f"
                        ],
                        [
                          0.2222222222222222,
                          "#7201a8"
                        ],
                        [
                          0.3333333333333333,
                          "#9c179e"
                        ],
                        [
                          0.4444444444444444,
                          "#bd3786"
                        ],
                        [
                          0.5555555555555556,
                          "#d8576b"
                        ],
                        [
                          0.6666666666666666,
                          "#ed7953"
                        ],
                        [
                          0.7777777777777778,
                          "#fb9f3a"
                        ],
                        [
                          0.8888888888888888,
                          "#fdca26"
                        ],
                        [
                          1,
                          "#f0f921"
                        ]
                      ],
                      "sequentialminus": [
                        [
                          0,
                          "#0d0887"
                        ],
                        [
                          0.1111111111111111,
                          "#46039f"
                        ],
                        [
                          0.2222222222222222,
                          "#7201a8"
                        ],
                        [
                          0.3333333333333333,
                          "#9c179e"
                        ],
                        [
                          0.4444444444444444,
                          "#bd3786"
                        ],
                        [
                          0.5555555555555556,
                          "#d8576b"
                        ],
                        [
                          0.6666666666666666,
                          "#ed7953"
                        ],
                        [
                          0.7777777777777778,
                          "#fb9f3a"
                        ],
                        [
                          0.8888888888888888,
                          "#fdca26"
                        ],
                        [
                          1,
                          "#f0f921"
                        ]
                      ]
                    },
                    "colorway": [
                      "#636efa",
                      "#EF553B",
                      "#00cc96",
                      "#ab63fa",
                      "#FFA15A",
                      "#19d3f3",
                      "#FF6692",
                      "#B6E880",
                      "#FF97FF",
                      "#FECB52"
                    ],
                    "font": {
                      "color": "#2a3f5f"
                    },
                    "geo": {
                      "bgcolor": "white",
                      "lakecolor": "white",
                      "landcolor": "#E5ECF6",
                      "showlakes": true,
                      "showland": true,
                      "subunitcolor": "white"
                    },
                    "hoverlabel": {
                      "align": "left"
                    },
                    "hovermode": "closest",
                    "mapbox": {
                      "style": "light"
                    },
                    "paper_bgcolor": "white",
                    "plot_bgcolor": "#E5ECF6",
                    "polar": {
                      "angularaxis": {
                        "gridcolor": "white",
                        "linecolor": "white",
                        "ticks": ""
                      },
                      "bgcolor": "#E5ECF6",
                      "radialaxis": {
                        "gridcolor": "white",
                        "linecolor": "white",
                        "ticks": ""
                      }
                    },
                    "scene": {
                      "xaxis": {
                        "backgroundcolor": "#E5ECF6",
                        "gridcolor": "white",
                        "gridwidth": 2,
                        "linecolor": "white",
                        "showbackground": true,
                        "ticks": "",
                        "zerolinecolor": "white"
                      },
                      "yaxis": {
                        "backgroundcolor": "#E5ECF6",
                        "gridcolor": "white",
                        "gridwidth": 2,
                        "linecolor": "white",
                        "showbackground": true,
                        "ticks": "",
                        "zerolinecolor": "white"
                      },
                      "zaxis": {
                        "backgroundcolor": "#E5ECF6",
                        "gridcolor": "white",
                        "gridwidth": 2,
                        "linecolor": "white",
                        "showbackground": true,
                        "ticks": "",
                        "zerolinecolor": "white"
                      }
                    },
                    "shapedefaults": {
                      "line": {
                        "color": "#2a3f5f"
                      }
                    },
                    "ternary": {
                      "aaxis": {
                        "gridcolor": "white",
                        "linecolor": "white",
                        "ticks": ""
                      },
                      "baxis": {
                        "gridcolor": "white",
                        "linecolor": "white",
                        "ticks": ""
                      },
                      "bgcolor": "#E5ECF6",
                      "caxis": {
                        "gridcolor": "white",
                        "linecolor": "white",
                        "ticks": ""
                      }
                    },
                    "title": {
                      "x": 0.05
                    },
                    "xaxis": {
                      "automargin": true,
                      "gridcolor": "white",
                      "linecolor": "white",
                      "ticks": "",
                      "title": {
                        "standoff": 15
                      },
                      "zerolinecolor": "white",
                      "zerolinewidth": 2
                    },
                    "yaxis": {
                      "automargin": true,
                      "gridcolor": "white",
                      "linecolor": "white",
                      "ticks": "",
                      "title": {
                        "standoff": 15
                      },
                      "zerolinecolor": "white",
                      "zerolinewidth": 2
                    }
                  }
                },
                "title": {
                  "text": "Count of Skin Type That Suitable For The Product"
                },
                "width": 800,
                "xaxis": {
                  "anchor": "y",
                  "domain": [
                    0,
                    1
                  ],
                  "tickangle": 15,
                  "title": {
                    "text": "Skin_type"
                  }
                },
                "yaxis": {
                  "anchor": "x",
                  "domain": [
                    0,
                    1
                  ],
                  "title": {
                    "text": "Counts"
                  }
                }
              }
            }
          },
          "metadata": {},
          "output_type": "display_data"
        }
      ],
      "source": [
        "# Skin Type\n",
        "top_7 = counts_df.head(7)\n",
        "sns.set(style='white')\n",
        "fig = px.bar(data_frame=top_7, x='Skin_type', y='Counts',\n",
        "       color='Counts', color_continuous_scale='Inferno_r',\n",
        "       width=800, height=600,\n",
        "       text_auto=True, title=f'Count of Skin Type That Suitable For The Product')\n",
        "fig.update_layout(plot_bgcolor='#FFFCF2', xaxis_tickangle = 15)\n",
        "fig.show()"
      ]
    },
    {
      "cell_type": "code",
      "execution_count": 171,
      "metadata": {
        "colab": {
          "base_uri": "https://localhost:8080/",
          "height": 536
        },
        "id": "u-WLO1Ro52CS",
        "outputId": "b77925e8-73e6-4a16-d327-b17fd82b4bbe"
      },
      "outputs": [
        {
          "data": {
            "text/html": [
              "<div>\n",
              "<style scoped>\n",
              "    .dataframe tbody tr th:only-of-type {\n",
              "        vertical-align: middle;\n",
              "    }\n",
              "\n",
              "    .dataframe tbody tr th {\n",
              "        vertical-align: top;\n",
              "    }\n",
              "\n",
              "    .dataframe thead th {\n",
              "        text-align: right;\n",
              "    }\n",
              "</style>\n",
              "<table border=\"1\" class=\"dataframe\">\n",
              "  <thead>\n",
              "    <tr style=\"text-align: right;\">\n",
              "      <th></th>\n",
              "      <th>Unnamed: 0</th>\n",
              "      <th>product_name</th>\n",
              "      <th>product_type</th>\n",
              "      <th>brand</th>\n",
              "      <th>product_href</th>\n",
              "      <th>price</th>\n",
              "      <th>notable_effects</th>\n",
              "      <th>skin_type</th>\n",
              "      <th>Normal</th>\n",
              "      <th>Oily</th>\n",
              "      <th>Combination</th>\n",
              "      <th>Dry</th>\n",
              "      <th>description</th>\n",
              "      <th>labels</th>\n",
              "    </tr>\n",
              "  </thead>\n",
              "  <tbody>\n",
              "    <tr>\n",
              "      <th>0</th>\n",
              "      <td>0</td>\n",
              "      <td>Lip Butter Balm for Hydration &amp; Shine</td>\n",
              "      <td>Lip Balms &amp; Treatments</td>\n",
              "      <td>Summer Fridays</td>\n",
              "      <td>https://www.sephora.com/product/summer-fridays...</td>\n",
              "      <td>$24.00</td>\n",
              "      <td>Dryness and Dullness</td>\n",
              "      <td>Normal, Dry, Combination, and Oily</td>\n",
              "      <td>1</td>\n",
              "      <td>1</td>\n",
              "      <td>1</td>\n",
              "      <td>1</td>\n",
              "      <td>A silky vegan balm that hydrates and soothes d...</td>\n",
              "      <td>53</td>\n",
              "    </tr>\n",
              "    <tr>\n",
              "      <th>1</th>\n",
              "      <td>1</td>\n",
              "      <td>Niacinamide 10% + Zinc 1% Oil Control Serum</td>\n",
              "      <td>Face Serums</td>\n",
              "      <td>The Ordinary</td>\n",
              "      <td>https://www.sephora.com/product/the-ordinary-d...</td>\n",
              "      <td>$6.00</td>\n",
              "      <td>Pores and Oiliness</td>\n",
              "      <td>Normal, Dry, Combination, and Oily</td>\n",
              "      <td>1</td>\n",
              "      <td>1</td>\n",
              "      <td>1</td>\n",
              "      <td>1</td>\n",
              "      <td>A high-strength vitamin-and-mineral blemish fo...</td>\n",
              "      <td>197</td>\n",
              "    </tr>\n",
              "    <tr>\n",
              "      <th>2</th>\n",
              "      <td>2</td>\n",
              "      <td>Dreamy Lip Kit</td>\n",
              "      <td>Value &amp; Gift Sets</td>\n",
              "      <td>LANEIGE</td>\n",
              "      <td>https://www.sephora.com/product/laneige-dreamy...</td>\n",
              "      <td>$20.00</td>\n",
              "      <td>Dryness, Dullness, and Loss of Firmness and El...</td>\n",
              "      <td>Normal, Dry, Combination, and Oily</td>\n",
              "      <td>1</td>\n",
              "      <td>1</td>\n",
              "      <td>1</td>\n",
              "      <td>1</td>\n",
              "      <td>A kit that features the beloved Lip Sleeping M...</td>\n",
              "      <td>73</td>\n",
              "    </tr>\n",
              "    <tr>\n",
              "      <th>3</th>\n",
              "      <td>3</td>\n",
              "      <td>Watermelon Glow PHA + BHA Pore-Tight Toner</td>\n",
              "      <td>Toners</td>\n",
              "      <td>Glow Recipe</td>\n",
              "      <td>https://www.sephora.com/product/glow-recipe-wa...</td>\n",
              "      <td>$35.00</td>\n",
              "      <td>Pores, Dryness, and Dullness</td>\n",
              "      <td>Normal, Dry, Combination, and Oily</td>\n",
              "      <td>1</td>\n",
              "      <td>1</td>\n",
              "      <td>1</td>\n",
              "      <td>1</td>\n",
              "      <td>A bestselling, gentle PHA- and BHA-infused wat...</td>\n",
              "      <td>205</td>\n",
              "    </tr>\n",
              "    <tr>\n",
              "      <th>4</th>\n",
              "      <td>4</td>\n",
              "      <td>Glycolic Acid 7% Exfoliating Toner</td>\n",
              "      <td>Toners</td>\n",
              "      <td>The Ordinary</td>\n",
              "      <td>https://www.sephora.com/product/the-ordinary-d...</td>\n",
              "      <td>$8.70</td>\n",
              "      <td>Dullness and Uneven Texture</td>\n",
              "      <td>Normal, Dry, Combination, and Oily</td>\n",
              "      <td>1</td>\n",
              "      <td>1</td>\n",
              "      <td>1</td>\n",
              "      <td>1</td>\n",
              "      <td>A daily surface exfoliator that smooths skin t...</td>\n",
              "      <td>102</td>\n",
              "    </tr>\n",
              "  </tbody>\n",
              "</table>\n",
              "</div>"
            ],
            "text/plain": [
              "   Unnamed: 0                                  product_name  \\\n",
              "0           0         Lip Butter Balm for Hydration & Shine   \n",
              "1           1  Niacinamide 10% + Zinc 1% Oil Control Serum    \n",
              "2           2                                Dreamy Lip Kit   \n",
              "3           3    Watermelon Glow PHA + BHA Pore-Tight Toner   \n",
              "4           4            Glycolic Acid 7% Exfoliating Toner   \n",
              "\n",
              "             product_type           brand  \\\n",
              "0  Lip Balms & Treatments  Summer Fridays   \n",
              "1             Face Serums    The Ordinary   \n",
              "2       Value & Gift Sets         LANEIGE   \n",
              "3                  Toners     Glow Recipe   \n",
              "4                  Toners    The Ordinary   \n",
              "\n",
              "                                        product_href   price  \\\n",
              "0  https://www.sephora.com/product/summer-fridays...  $24.00   \n",
              "1  https://www.sephora.com/product/the-ordinary-d...   $6.00   \n",
              "2  https://www.sephora.com/product/laneige-dreamy...  $20.00   \n",
              "3  https://www.sephora.com/product/glow-recipe-wa...  $35.00   \n",
              "4  https://www.sephora.com/product/the-ordinary-d...   $8.70   \n",
              "\n",
              "                                     notable_effects  \\\n",
              "0                               Dryness and Dullness   \n",
              "1                                 Pores and Oiliness   \n",
              "2  Dryness, Dullness, and Loss of Firmness and El...   \n",
              "3                       Pores, Dryness, and Dullness   \n",
              "4                        Dullness and Uneven Texture   \n",
              "\n",
              "                            skin_type  Normal  Oily  Combination  Dry  \\\n",
              "0  Normal, Dry, Combination, and Oily       1     1            1    1   \n",
              "1  Normal, Dry, Combination, and Oily       1     1            1    1   \n",
              "2  Normal, Dry, Combination, and Oily       1     1            1    1   \n",
              "3  Normal, Dry, Combination, and Oily       1     1            1    1   \n",
              "4  Normal, Dry, Combination, and Oily       1     1            1    1   \n",
              "\n",
              "                                         description  labels  \n",
              "0  A silky vegan balm that hydrates and soothes d...      53  \n",
              "1  A high-strength vitamin-and-mineral blemish fo...     197  \n",
              "2  A kit that features the beloved Lip Sleeping M...      73  \n",
              "3  A bestselling, gentle PHA- and BHA-infused wat...     205  \n",
              "4  A daily surface exfoliator that smooths skin t...     102  "
            ]
          },
          "execution_count": 171,
          "metadata": {},
          "output_type": "execute_result"
        }
      ],
      "source": [
        "# Creating numerical labels of notable_effects due to many effects shown by the diagram above\n",
        "skincare['notable_effects']=skincare['notable_effects'].astype('category')\n",
        "skincare['labels']=skincare['notable_effects'].cat.codes\n",
        "skincare.head()"
      ]
    },
    {
      "cell_type": "code",
      "execution_count": 182,
      "metadata": {
        "colab": {
          "base_uri": "https://localhost:8080/",
          "height": 363
        },
        "id": "rELdSYgM70yi",
        "outputId": "a2268cf7-f866-4545-8852-67813457fd5e"
      },
      "outputs": [
        {
          "name": "stdout",
          "output_type": "stream",
          "text": [
            "                                       Notable_Effects  Counts  Percent%\n",
            "0                                              Dryness      32      5.78\n",
            "1    Fine Lines and Wrinkles, Dryness, and Loss of ...      26      4.69\n",
            "2                  Pores, Uneven Texture, and Oiliness      15      2.71\n",
            "3                Dryness, Dullness, and Uneven Texture      14      2.53\n",
            "4              Pores, Acne and Blemishes, and Oiliness      13      2.35\n",
            "..                                                 ...     ...       ...\n",
            "247  Dullness and Uneven Texture, Dark Spots, and F...       1      0.18\n",
            "248  Dullness and Uneven Texture, Dark Spots, and P...       1      0.18\n",
            "249  Dullness and Uneven Texture, Pores, and Drynes...       1      0.18\n",
            "250              Dullness, Dark Circles, and Puffiness       1      0.18\n",
            "251                   ryness, Uneven Texture, Oiliness       1      0.18\n",
            "\n",
            "[252 rows x 3 columns]\n"
          ]
        }
      ],
      "source": [
        "# Skin Type That Suitable For the Product\n",
        "counts_effect = skincare['notable_effects'].value_counts()\n",
        "count_percentage = skincare['notable_effects'].value_counts(1)*100\n",
        "counts_effect_df = pd.DataFrame({'Notable_Effects':counts_effect.index,'Counts':counts_effect.values,'Percent%':np.round(count_percentage.values,2)})\n",
        "# counts_effect_df.head(10)\n",
        "print(counts_effect_df)"
      ]
    },
    {
      "cell_type": "code",
      "execution_count": 173,
      "metadata": {
        "colab": {
          "base_uri": "https://localhost:8080/",
          "height": 542
        },
        "id": "sz9buTGfE1CP",
        "outputId": "d7188dfa-fe15-4889-cf3b-ef7345504bf5"
      },
      "outputs": [
        {
          "data": {
            "application/vnd.plotly.v1+json": {
              "config": {
                "plotlyServerURL": "https://plot.ly"
              },
              "data": [
                {
                  "customdata": [
                    [
                      "Dryness"
                    ],
                    [
                      "Fine Lines and Wrinkles, Dryness, and Loss of Firmness and Elasticity"
                    ],
                    [
                      "Pores, Uneven Texture, and Oiliness"
                    ],
                    [
                      "Dryness, Dullness, and Uneven Texture"
                    ],
                    [
                      "Pores, Acne and Blemishes, and Oiliness"
                    ]
                  ],
                  "domain": {
                    "x": [
                      0,
                      1
                    ],
                    "y": [
                      0,
                      1
                    ]
                  },
                  "hovertemplate": "Notable_Effects=%{customdata[0]}<br>Counts=%{value}<extra></extra>",
                  "labels": [
                    "Dryness",
                    "Fine Lines and Wrinkles, Dryness, and Loss of Firmness and Elasticity",
                    "Pores, Uneven Texture, and Oiliness",
                    "Dryness, Dullness, and Uneven Texture",
                    "Pores, Acne and Blemishes, and Oiliness"
                  ],
                  "legendgroup": "",
                  "marker": {
                    "colors": [
                      "#99582A",
                      "#F4ACB7",
                      "#FFCCD5",
                      "#FDFCDC",
                      "#C6AC8F"
                    ]
                  },
                  "name": "",
                  "showlegend": true,
                  "textfont": {
                    "color": "black",
                    "size": 15
                  },
                  "textinfo": "percent",
                  "textposition": "inside",
                  "type": "pie",
                  "values": [
                    32,
                    26,
                    15,
                    14,
                    13
                  ]
                }
              ],
              "layout": {
                "legend": {
                  "tracegroupgap": 0
                },
                "margin": {
                  "t": 60
                },
                "piecolorway": [
                  "#99582A",
                  "#F4ACB7",
                  "#FFCCD5",
                  "#FDFCDC",
                  "#C6AC8F"
                ],
                "template": {
                  "data": {
                    "bar": [
                      {
                        "error_x": {
                          "color": "#2a3f5f"
                        },
                        "error_y": {
                          "color": "#2a3f5f"
                        },
                        "marker": {
                          "line": {
                            "color": "#E5ECF6",
                            "width": 0.5
                          },
                          "pattern": {
                            "fillmode": "overlay",
                            "size": 10,
                            "solidity": 0.2
                          }
                        },
                        "type": "bar"
                      }
                    ],
                    "barpolar": [
                      {
                        "marker": {
                          "line": {
                            "color": "#E5ECF6",
                            "width": 0.5
                          },
                          "pattern": {
                            "fillmode": "overlay",
                            "size": 10,
                            "solidity": 0.2
                          }
                        },
                        "type": "barpolar"
                      }
                    ],
                    "carpet": [
                      {
                        "aaxis": {
                          "endlinecolor": "#2a3f5f",
                          "gridcolor": "white",
                          "linecolor": "white",
                          "minorgridcolor": "white",
                          "startlinecolor": "#2a3f5f"
                        },
                        "baxis": {
                          "endlinecolor": "#2a3f5f",
                          "gridcolor": "white",
                          "linecolor": "white",
                          "minorgridcolor": "white",
                          "startlinecolor": "#2a3f5f"
                        },
                        "type": "carpet"
                      }
                    ],
                    "choropleth": [
                      {
                        "colorbar": {
                          "outlinewidth": 0,
                          "ticks": ""
                        },
                        "type": "choropleth"
                      }
                    ],
                    "contour": [
                      {
                        "colorbar": {
                          "outlinewidth": 0,
                          "ticks": ""
                        },
                        "colorscale": [
                          [
                            0,
                            "#0d0887"
                          ],
                          [
                            0.1111111111111111,
                            "#46039f"
                          ],
                          [
                            0.2222222222222222,
                            "#7201a8"
                          ],
                          [
                            0.3333333333333333,
                            "#9c179e"
                          ],
                          [
                            0.4444444444444444,
                            "#bd3786"
                          ],
                          [
                            0.5555555555555556,
                            "#d8576b"
                          ],
                          [
                            0.6666666666666666,
                            "#ed7953"
                          ],
                          [
                            0.7777777777777778,
                            "#fb9f3a"
                          ],
                          [
                            0.8888888888888888,
                            "#fdca26"
                          ],
                          [
                            1,
                            "#f0f921"
                          ]
                        ],
                        "type": "contour"
                      }
                    ],
                    "contourcarpet": [
                      {
                        "colorbar": {
                          "outlinewidth": 0,
                          "ticks": ""
                        },
                        "type": "contourcarpet"
                      }
                    ],
                    "heatmap": [
                      {
                        "colorbar": {
                          "outlinewidth": 0,
                          "ticks": ""
                        },
                        "colorscale": [
                          [
                            0,
                            "#0d0887"
                          ],
                          [
                            0.1111111111111111,
                            "#46039f"
                          ],
                          [
                            0.2222222222222222,
                            "#7201a8"
                          ],
                          [
                            0.3333333333333333,
                            "#9c179e"
                          ],
                          [
                            0.4444444444444444,
                            "#bd3786"
                          ],
                          [
                            0.5555555555555556,
                            "#d8576b"
                          ],
                          [
                            0.6666666666666666,
                            "#ed7953"
                          ],
                          [
                            0.7777777777777778,
                            "#fb9f3a"
                          ],
                          [
                            0.8888888888888888,
                            "#fdca26"
                          ],
                          [
                            1,
                            "#f0f921"
                          ]
                        ],
                        "type": "heatmap"
                      }
                    ],
                    "heatmapgl": [
                      {
                        "colorbar": {
                          "outlinewidth": 0,
                          "ticks": ""
                        },
                        "colorscale": [
                          [
                            0,
                            "#0d0887"
                          ],
                          [
                            0.1111111111111111,
                            "#46039f"
                          ],
                          [
                            0.2222222222222222,
                            "#7201a8"
                          ],
                          [
                            0.3333333333333333,
                            "#9c179e"
                          ],
                          [
                            0.4444444444444444,
                            "#bd3786"
                          ],
                          [
                            0.5555555555555556,
                            "#d8576b"
                          ],
                          [
                            0.6666666666666666,
                            "#ed7953"
                          ],
                          [
                            0.7777777777777778,
                            "#fb9f3a"
                          ],
                          [
                            0.8888888888888888,
                            "#fdca26"
                          ],
                          [
                            1,
                            "#f0f921"
                          ]
                        ],
                        "type": "heatmapgl"
                      }
                    ],
                    "histogram": [
                      {
                        "marker": {
                          "pattern": {
                            "fillmode": "overlay",
                            "size": 10,
                            "solidity": 0.2
                          }
                        },
                        "type": "histogram"
                      }
                    ],
                    "histogram2d": [
                      {
                        "colorbar": {
                          "outlinewidth": 0,
                          "ticks": ""
                        },
                        "colorscale": [
                          [
                            0,
                            "#0d0887"
                          ],
                          [
                            0.1111111111111111,
                            "#46039f"
                          ],
                          [
                            0.2222222222222222,
                            "#7201a8"
                          ],
                          [
                            0.3333333333333333,
                            "#9c179e"
                          ],
                          [
                            0.4444444444444444,
                            "#bd3786"
                          ],
                          [
                            0.5555555555555556,
                            "#d8576b"
                          ],
                          [
                            0.6666666666666666,
                            "#ed7953"
                          ],
                          [
                            0.7777777777777778,
                            "#fb9f3a"
                          ],
                          [
                            0.8888888888888888,
                            "#fdca26"
                          ],
                          [
                            1,
                            "#f0f921"
                          ]
                        ],
                        "type": "histogram2d"
                      }
                    ],
                    "histogram2dcontour": [
                      {
                        "colorbar": {
                          "outlinewidth": 0,
                          "ticks": ""
                        },
                        "colorscale": [
                          [
                            0,
                            "#0d0887"
                          ],
                          [
                            0.1111111111111111,
                            "#46039f"
                          ],
                          [
                            0.2222222222222222,
                            "#7201a8"
                          ],
                          [
                            0.3333333333333333,
                            "#9c179e"
                          ],
                          [
                            0.4444444444444444,
                            "#bd3786"
                          ],
                          [
                            0.5555555555555556,
                            "#d8576b"
                          ],
                          [
                            0.6666666666666666,
                            "#ed7953"
                          ],
                          [
                            0.7777777777777778,
                            "#fb9f3a"
                          ],
                          [
                            0.8888888888888888,
                            "#fdca26"
                          ],
                          [
                            1,
                            "#f0f921"
                          ]
                        ],
                        "type": "histogram2dcontour"
                      }
                    ],
                    "mesh3d": [
                      {
                        "colorbar": {
                          "outlinewidth": 0,
                          "ticks": ""
                        },
                        "type": "mesh3d"
                      }
                    ],
                    "parcoords": [
                      {
                        "line": {
                          "colorbar": {
                            "outlinewidth": 0,
                            "ticks": ""
                          }
                        },
                        "type": "parcoords"
                      }
                    ],
                    "pie": [
                      {
                        "automargin": true,
                        "type": "pie"
                      }
                    ],
                    "scatter": [
                      {
                        "fillpattern": {
                          "fillmode": "overlay",
                          "size": 10,
                          "solidity": 0.2
                        },
                        "type": "scatter"
                      }
                    ],
                    "scatter3d": [
                      {
                        "line": {
                          "colorbar": {
                            "outlinewidth": 0,
                            "ticks": ""
                          }
                        },
                        "marker": {
                          "colorbar": {
                            "outlinewidth": 0,
                            "ticks": ""
                          }
                        },
                        "type": "scatter3d"
                      }
                    ],
                    "scattercarpet": [
                      {
                        "marker": {
                          "colorbar": {
                            "outlinewidth": 0,
                            "ticks": ""
                          }
                        },
                        "type": "scattercarpet"
                      }
                    ],
                    "scattergeo": [
                      {
                        "marker": {
                          "colorbar": {
                            "outlinewidth": 0,
                            "ticks": ""
                          }
                        },
                        "type": "scattergeo"
                      }
                    ],
                    "scattergl": [
                      {
                        "marker": {
                          "colorbar": {
                            "outlinewidth": 0,
                            "ticks": ""
                          }
                        },
                        "type": "scattergl"
                      }
                    ],
                    "scattermapbox": [
                      {
                        "marker": {
                          "colorbar": {
                            "outlinewidth": 0,
                            "ticks": ""
                          }
                        },
                        "type": "scattermapbox"
                      }
                    ],
                    "scatterpolar": [
                      {
                        "marker": {
                          "colorbar": {
                            "outlinewidth": 0,
                            "ticks": ""
                          }
                        },
                        "type": "scatterpolar"
                      }
                    ],
                    "scatterpolargl": [
                      {
                        "marker": {
                          "colorbar": {
                            "outlinewidth": 0,
                            "ticks": ""
                          }
                        },
                        "type": "scatterpolargl"
                      }
                    ],
                    "scatterternary": [
                      {
                        "marker": {
                          "colorbar": {
                            "outlinewidth": 0,
                            "ticks": ""
                          }
                        },
                        "type": "scatterternary"
                      }
                    ],
                    "surface": [
                      {
                        "colorbar": {
                          "outlinewidth": 0,
                          "ticks": ""
                        },
                        "colorscale": [
                          [
                            0,
                            "#0d0887"
                          ],
                          [
                            0.1111111111111111,
                            "#46039f"
                          ],
                          [
                            0.2222222222222222,
                            "#7201a8"
                          ],
                          [
                            0.3333333333333333,
                            "#9c179e"
                          ],
                          [
                            0.4444444444444444,
                            "#bd3786"
                          ],
                          [
                            0.5555555555555556,
                            "#d8576b"
                          ],
                          [
                            0.6666666666666666,
                            "#ed7953"
                          ],
                          [
                            0.7777777777777778,
                            "#fb9f3a"
                          ],
                          [
                            0.8888888888888888,
                            "#fdca26"
                          ],
                          [
                            1,
                            "#f0f921"
                          ]
                        ],
                        "type": "surface"
                      }
                    ],
                    "table": [
                      {
                        "cells": {
                          "fill": {
                            "color": "#EBF0F8"
                          },
                          "line": {
                            "color": "white"
                          }
                        },
                        "header": {
                          "fill": {
                            "color": "#C8D4E3"
                          },
                          "line": {
                            "color": "white"
                          }
                        },
                        "type": "table"
                      }
                    ]
                  },
                  "layout": {
                    "annotationdefaults": {
                      "arrowcolor": "#2a3f5f",
                      "arrowhead": 0,
                      "arrowwidth": 1
                    },
                    "autotypenumbers": "strict",
                    "coloraxis": {
                      "colorbar": {
                        "outlinewidth": 0,
                        "ticks": ""
                      }
                    },
                    "colorscale": {
                      "diverging": [
                        [
                          0,
                          "#8e0152"
                        ],
                        [
                          0.1,
                          "#c51b7d"
                        ],
                        [
                          0.2,
                          "#de77ae"
                        ],
                        [
                          0.3,
                          "#f1b6da"
                        ],
                        [
                          0.4,
                          "#fde0ef"
                        ],
                        [
                          0.5,
                          "#f7f7f7"
                        ],
                        [
                          0.6,
                          "#e6f5d0"
                        ],
                        [
                          0.7,
                          "#b8e186"
                        ],
                        [
                          0.8,
                          "#7fbc41"
                        ],
                        [
                          0.9,
                          "#4d9221"
                        ],
                        [
                          1,
                          "#276419"
                        ]
                      ],
                      "sequential": [
                        [
                          0,
                          "#0d0887"
                        ],
                        [
                          0.1111111111111111,
                          "#46039f"
                        ],
                        [
                          0.2222222222222222,
                          "#7201a8"
                        ],
                        [
                          0.3333333333333333,
                          "#9c179e"
                        ],
                        [
                          0.4444444444444444,
                          "#bd3786"
                        ],
                        [
                          0.5555555555555556,
                          "#d8576b"
                        ],
                        [
                          0.6666666666666666,
                          "#ed7953"
                        ],
                        [
                          0.7777777777777778,
                          "#fb9f3a"
                        ],
                        [
                          0.8888888888888888,
                          "#fdca26"
                        ],
                        [
                          1,
                          "#f0f921"
                        ]
                      ],
                      "sequentialminus": [
                        [
                          0,
                          "#0d0887"
                        ],
                        [
                          0.1111111111111111,
                          "#46039f"
                        ],
                        [
                          0.2222222222222222,
                          "#7201a8"
                        ],
                        [
                          0.3333333333333333,
                          "#9c179e"
                        ],
                        [
                          0.4444444444444444,
                          "#bd3786"
                        ],
                        [
                          0.5555555555555556,
                          "#d8576b"
                        ],
                        [
                          0.6666666666666666,
                          "#ed7953"
                        ],
                        [
                          0.7777777777777778,
                          "#fb9f3a"
                        ],
                        [
                          0.8888888888888888,
                          "#fdca26"
                        ],
                        [
                          1,
                          "#f0f921"
                        ]
                      ]
                    },
                    "colorway": [
                      "#636efa",
                      "#EF553B",
                      "#00cc96",
                      "#ab63fa",
                      "#FFA15A",
                      "#19d3f3",
                      "#FF6692",
                      "#B6E880",
                      "#FF97FF",
                      "#FECB52"
                    ],
                    "font": {
                      "color": "#2a3f5f"
                    },
                    "geo": {
                      "bgcolor": "white",
                      "lakecolor": "white",
                      "landcolor": "#E5ECF6",
                      "showlakes": true,
                      "showland": true,
                      "subunitcolor": "white"
                    },
                    "hoverlabel": {
                      "align": "left"
                    },
                    "hovermode": "closest",
                    "mapbox": {
                      "style": "light"
                    },
                    "paper_bgcolor": "white",
                    "plot_bgcolor": "#E5ECF6",
                    "polar": {
                      "angularaxis": {
                        "gridcolor": "white",
                        "linecolor": "white",
                        "ticks": ""
                      },
                      "bgcolor": "#E5ECF6",
                      "radialaxis": {
                        "gridcolor": "white",
                        "linecolor": "white",
                        "ticks": ""
                      }
                    },
                    "scene": {
                      "xaxis": {
                        "backgroundcolor": "#E5ECF6",
                        "gridcolor": "white",
                        "gridwidth": 2,
                        "linecolor": "white",
                        "showbackground": true,
                        "ticks": "",
                        "zerolinecolor": "white"
                      },
                      "yaxis": {
                        "backgroundcolor": "#E5ECF6",
                        "gridcolor": "white",
                        "gridwidth": 2,
                        "linecolor": "white",
                        "showbackground": true,
                        "ticks": "",
                        "zerolinecolor": "white"
                      },
                      "zaxis": {
                        "backgroundcolor": "#E5ECF6",
                        "gridcolor": "white",
                        "gridwidth": 2,
                        "linecolor": "white",
                        "showbackground": true,
                        "ticks": "",
                        "zerolinecolor": "white"
                      }
                    },
                    "shapedefaults": {
                      "line": {
                        "color": "#2a3f5f"
                      }
                    },
                    "ternary": {
                      "aaxis": {
                        "gridcolor": "white",
                        "linecolor": "white",
                        "ticks": ""
                      },
                      "baxis": {
                        "gridcolor": "white",
                        "linecolor": "white",
                        "ticks": ""
                      },
                      "bgcolor": "#E5ECF6",
                      "caxis": {
                        "gridcolor": "white",
                        "linecolor": "white",
                        "ticks": ""
                      }
                    },
                    "title": {
                      "x": 0.05
                    },
                    "xaxis": {
                      "automargin": true,
                      "gridcolor": "white",
                      "linecolor": "white",
                      "ticks": "",
                      "title": {
                        "standoff": 15
                      },
                      "zerolinecolor": "white",
                      "zerolinewidth": 2
                    },
                    "yaxis": {
                      "automargin": true,
                      "gridcolor": "white",
                      "linecolor": "white",
                      "ticks": "",
                      "title": {
                        "standoff": 15
                      },
                      "zerolinecolor": "white",
                      "zerolinewidth": 2
                    }
                  }
                },
                "title": {
                  "text": "Skin Care Product Notable Effects",
                  "x": 0.5,
                  "xanchor": "center",
                  "y": 0.95,
                  "yanchor": "top"
                }
              }
            }
          },
          "metadata": {},
          "output_type": "display_data"
        }
      ],
      "source": [
        "top_5 = counts_effect_df.head(5)\n",
        "fig = px.pie(top_5, values = 'Counts', color = 'Notable_Effects', names = 'Notable_Effects',\n",
        "             color_discrete_sequence = ['#99582A','#F4ACB7', '#FFCCD5', '#FDFCDC', '#C6AC8F'])\n",
        "fig.update_traces(textposition = 'inside', textfont = dict(color = 'black', size = 15), textinfo = 'percent')\n",
        "fig.update_layout(title={'text':'Skin Care Product Notable Effects', 'y':0.95, 'x':0.5, 'xanchor': 'center', 'yanchor': 'top'})\n",
        "fig.show()"
      ]
    },
    {
      "cell_type": "markdown",
      "metadata": {
        "id": "NXEOsIWEx5K6"
      },
      "source": [
        "# Data Preparation"
      ]
    },
    {
      "cell_type": "code",
      "execution_count": 174,
      "metadata": {
        "colab": {
          "base_uri": "https://localhost:8080/",
          "height": 573
        },
        "id": "zhXusejQv9it",
        "outputId": "15b0daef-88b3-45df-f035-63d5ef8a8849"
      },
      "outputs": [
        {
          "data": {
            "text/html": [
              "<div>\n",
              "<style scoped>\n",
              "    .dataframe tbody tr th:only-of-type {\n",
              "        vertical-align: middle;\n",
              "    }\n",
              "\n",
              "    .dataframe tbody tr th {\n",
              "        vertical-align: top;\n",
              "    }\n",
              "\n",
              "    .dataframe thead th {\n",
              "        text-align: right;\n",
              "    }\n",
              "</style>\n",
              "<table border=\"1\" class=\"dataframe\">\n",
              "  <thead>\n",
              "    <tr style=\"text-align: right;\">\n",
              "      <th></th>\n",
              "      <th>Unnamed: 0</th>\n",
              "      <th>product_name</th>\n",
              "      <th>product_type</th>\n",
              "      <th>brand</th>\n",
              "      <th>product_href</th>\n",
              "      <th>price</th>\n",
              "      <th>notable_effects</th>\n",
              "      <th>skin_type</th>\n",
              "      <th>Normal</th>\n",
              "      <th>Oily</th>\n",
              "      <th>Combination</th>\n",
              "      <th>Dry</th>\n",
              "      <th>description</th>\n",
              "      <th>labels</th>\n",
              "    </tr>\n",
              "  </thead>\n",
              "  <tbody>\n",
              "    <tr>\n",
              "      <th>0</th>\n",
              "      <td>0</td>\n",
              "      <td>Lip Butter Balm for Hydration &amp; Shine</td>\n",
              "      <td>Lip Balms &amp; Treatments</td>\n",
              "      <td>Summer Fridays</td>\n",
              "      <td>https://www.sephora.com/product/summer-fridays...</td>\n",
              "      <td>$24.00</td>\n",
              "      <td>Dryness and Dullness</td>\n",
              "      <td>Normal, Dry, Combination, and Oily</td>\n",
              "      <td>1</td>\n",
              "      <td>1</td>\n",
              "      <td>1</td>\n",
              "      <td>1</td>\n",
              "      <td>A silky vegan balm that hydrates and soothes d...</td>\n",
              "      <td>53</td>\n",
              "    </tr>\n",
              "    <tr>\n",
              "      <th>1</th>\n",
              "      <td>1</td>\n",
              "      <td>Niacinamide 10% + Zinc 1% Oil Control Serum</td>\n",
              "      <td>Face Serums</td>\n",
              "      <td>The Ordinary</td>\n",
              "      <td>https://www.sephora.com/product/the-ordinary-d...</td>\n",
              "      <td>$6.00</td>\n",
              "      <td>Pores and Oiliness</td>\n",
              "      <td>Normal, Dry, Combination, and Oily</td>\n",
              "      <td>1</td>\n",
              "      <td>1</td>\n",
              "      <td>1</td>\n",
              "      <td>1</td>\n",
              "      <td>A high-strength vitamin-and-mineral blemish fo...</td>\n",
              "      <td>197</td>\n",
              "    </tr>\n",
              "    <tr>\n",
              "      <th>2</th>\n",
              "      <td>2</td>\n",
              "      <td>Dreamy Lip Kit</td>\n",
              "      <td>Value &amp; Gift Sets</td>\n",
              "      <td>LANEIGE</td>\n",
              "      <td>https://www.sephora.com/product/laneige-dreamy...</td>\n",
              "      <td>$20.00</td>\n",
              "      <td>Dryness, Dullness, and Loss of Firmness and El...</td>\n",
              "      <td>Normal, Dry, Combination, and Oily</td>\n",
              "      <td>1</td>\n",
              "      <td>1</td>\n",
              "      <td>1</td>\n",
              "      <td>1</td>\n",
              "      <td>A kit that features the beloved Lip Sleeping M...</td>\n",
              "      <td>73</td>\n",
              "    </tr>\n",
              "    <tr>\n",
              "      <th>3</th>\n",
              "      <td>3</td>\n",
              "      <td>Watermelon Glow PHA + BHA Pore-Tight Toner</td>\n",
              "      <td>Toners</td>\n",
              "      <td>Glow Recipe</td>\n",
              "      <td>https://www.sephora.com/product/glow-recipe-wa...</td>\n",
              "      <td>$35.00</td>\n",
              "      <td>Pores, Dryness, and Dullness</td>\n",
              "      <td>Normal, Dry, Combination, and Oily</td>\n",
              "      <td>1</td>\n",
              "      <td>1</td>\n",
              "      <td>1</td>\n",
              "      <td>1</td>\n",
              "      <td>A bestselling, gentle PHA- and BHA-infused wat...</td>\n",
              "      <td>205</td>\n",
              "    </tr>\n",
              "    <tr>\n",
              "      <th>4</th>\n",
              "      <td>4</td>\n",
              "      <td>Glycolic Acid 7% Exfoliating Toner</td>\n",
              "      <td>Toners</td>\n",
              "      <td>The Ordinary</td>\n",
              "      <td>https://www.sephora.com/product/the-ordinary-d...</td>\n",
              "      <td>$8.70</td>\n",
              "      <td>Dullness and Uneven Texture</td>\n",
              "      <td>Normal, Dry, Combination, and Oily</td>\n",
              "      <td>1</td>\n",
              "      <td>1</td>\n",
              "      <td>1</td>\n",
              "      <td>1</td>\n",
              "      <td>A daily surface exfoliator that smooths skin t...</td>\n",
              "      <td>102</td>\n",
              "    </tr>\n",
              "  </tbody>\n",
              "</table>\n",
              "</div>"
            ],
            "text/plain": [
              "   Unnamed: 0                                  product_name  \\\n",
              "0           0         Lip Butter Balm for Hydration & Shine   \n",
              "1           1  Niacinamide 10% + Zinc 1% Oil Control Serum    \n",
              "2           2                                Dreamy Lip Kit   \n",
              "3           3    Watermelon Glow PHA + BHA Pore-Tight Toner   \n",
              "4           4            Glycolic Acid 7% Exfoliating Toner   \n",
              "\n",
              "             product_type           brand  \\\n",
              "0  Lip Balms & Treatments  Summer Fridays   \n",
              "1             Face Serums    The Ordinary   \n",
              "2       Value & Gift Sets         LANEIGE   \n",
              "3                  Toners     Glow Recipe   \n",
              "4                  Toners    The Ordinary   \n",
              "\n",
              "                                        product_href   price  \\\n",
              "0  https://www.sephora.com/product/summer-fridays...  $24.00   \n",
              "1  https://www.sephora.com/product/the-ordinary-d...   $6.00   \n",
              "2  https://www.sephora.com/product/laneige-dreamy...  $20.00   \n",
              "3  https://www.sephora.com/product/glow-recipe-wa...  $35.00   \n",
              "4  https://www.sephora.com/product/the-ordinary-d...   $8.70   \n",
              "\n",
              "                                     notable_effects  \\\n",
              "0                               Dryness and Dullness   \n",
              "1                                 Pores and Oiliness   \n",
              "2  Dryness, Dullness, and Loss of Firmness and El...   \n",
              "3                       Pores, Dryness, and Dullness   \n",
              "4                        Dullness and Uneven Texture   \n",
              "\n",
              "                            skin_type  Normal  Oily  Combination  Dry  \\\n",
              "0  Normal, Dry, Combination, and Oily       1     1            1    1   \n",
              "1  Normal, Dry, Combination, and Oily       1     1            1    1   \n",
              "2  Normal, Dry, Combination, and Oily       1     1            1    1   \n",
              "3  Normal, Dry, Combination, and Oily       1     1            1    1   \n",
              "4  Normal, Dry, Combination, and Oily       1     1            1    1   \n",
              "\n",
              "                                         description  labels  \n",
              "0  A silky vegan balm that hydrates and soothes d...      53  \n",
              "1  A high-strength vitamin-and-mineral blemish fo...     197  \n",
              "2  A kit that features the beloved Lip Sleeping M...      73  \n",
              "3  A bestselling, gentle PHA- and BHA-infused wat...     205  \n",
              "4  A daily surface exfoliator that smooths skin t...     102  "
            ]
          },
          "execution_count": 174,
          "metadata": {},
          "output_type": "execute_result"
        }
      ],
      "source": [
        "skincare.head(5)"
      ]
    },
    {
      "cell_type": "markdown",
      "metadata": {
        "id": "5Inv5T4mQEIu"
      },
      "source": [
        "# Modelling"
      ]
    },
    {
      "cell_type": "markdown",
      "metadata": {
        "id": "Irbsy8lf7OhW"
      },
      "source": [
        "### TF-IDF Vectorizer"
      ]
    },
    {
      "cell_type": "markdown",
      "metadata": {
        "id": "g5jA1tTpojNZ"
      },
      "source": [
        "The TF-IDF Vectorizer will be used in the recommendation system to find a representation of the important features of each notable_effects category. We will use the tfidfvectorizer() function from the sklearn library."
      ]
    },
    {
      "cell_type": "code",
      "execution_count": 175,
      "metadata": {
        "colab": {
          "base_uri": "https://localhost:8080/"
        },
        "id": "tLnT9wJtBESD",
        "outputId": "42e385ec-a1bb-4aaa-a6c6-5d688b5384af"
      },
      "outputs": [
        {
          "name": "stdout",
          "output_type": "stream",
          "text": [
            "['absorption' 'acne' 'across' 'aids' 'ambitious' 'amp' 'and' 'appearance'\n",
            " 'applied' 'areas' 'awareour' 'beauty' 'blemishes' 'brands' 'cheekbones'\n",
            " 'circles' 'clean' 'commitments' 'consumer' 'controversial' 'corporate'\n",
            " 'curation' 'curved' 'dark' 'dedicated' 'different' 'distinct' 'drainage'\n",
            " 'dryness' 'dullness' 'edge' 'edges' 'elasticity' 'else' 'environmental'\n",
            " 'facial' 'features' 'fine' 'fines' 'firmness' 'for' 'from' 'gentle'\n",
            " 'gently' 'glides' 'gua' 'helps' 'hugs' 'improve' 'in' 'including'\n",
            " 'ingredients' 'inwardly' 'jawline' 'know' 'like' 'lines' 'loss'\n",
            " 'lymphatic' 'made' 'making' 'massage' 'meaningful' 'natural' 'nbsp'\n",
            " 'need' 'of' 'oiliness' 'on' 'outwardly' 'packaging' 'planet' 'pores'\n",
            " 'pressure' 'products' 'promote' 'promoting' 'provides' 'puffiness'\n",
            " 'quartz' 'redness' 'reduce' 'reducing' 'relieve' 'rose' 'ryness'\n",
            " 'scalloped' 'sculpt' 'sha' 'shape' 'skin' 'skincare' 'skintone'\n",
            " 'sourcing' 'spot' 'spots' 'surface' 'sustainable' 'techniques' 'tension'\n",
            " 'texture' 'the' 'three' 'to' 'tone' 'tool' 'transparency' 'uneven'\n",
            " 'unique' 'what' 'wing' 'with' 'without' 'wrinkles' 'you' 'your']\n"
          ]
        }
      ],
      "source": [
        "import pandas as pd\n",
        "from sklearn.feature_extraction.text import TfidfVectorizer\n",
        "\n",
        "# Assuming skincare is your DataFrame containing skin care data\n",
        "\n",
        "# Drop NaN values in the 'notable_effects' column\n",
        "skincare.dropna(subset=['notable_effects'], inplace=True)\n",
        "\n",
        "# Initializing TfidfVectorizer\n",
        "tf = TfidfVectorizer()\n",
        "\n",
        "# Perform IDF calculation on 'notable_effects' data\n",
        "tf.fit(skincare['notable_effects'])\n",
        "\n",
        "# Mapping array from integer index feature to name feature\n",
        "feature_names = tf.get_feature_names_out()\n",
        "print(feature_names)\n"
      ]
    },
    {
      "cell_type": "code",
      "execution_count": 176,
      "metadata": {
        "colab": {
          "base_uri": "https://localhost:8080/"
        },
        "id": "CN0N59HjCNto",
        "outputId": "650a37b8-0a5a-45b7-c050-99b1cc98ce7f"
      },
      "outputs": [
        {
          "data": {
            "text/plain": [
              "(554, 116)"
            ]
          },
          "execution_count": 176,
          "metadata": {},
          "output_type": "execute_result"
        }
      ],
      "source": [
        "# Doing fit then transformed to matrix form\n",
        "tfidf_matrix = tf.fit_transform(skincare['notable_effects'])\n",
        "\n",
        "# Viewing matrix size TF IDF\n",
        "shape = tfidf_matrix.shape\n",
        "shape"
      ]
    },
    {
      "cell_type": "code",
      "execution_count": 177,
      "metadata": {
        "colab": {
          "base_uri": "https://localhost:8080/"
        },
        "id": "4LQmkwz0CY9m",
        "outputId": "b6e76002-8ba2-4fca-8b41-bc1ae26e1130"
      },
      "outputs": [
        {
          "data": {
            "text/plain": [
              "matrix([[0.        , 0.        , 0.        , ..., 0.        , 0.        ,\n",
              "         0.        ],\n",
              "        [0.        , 0.        , 0.        , ..., 0.        , 0.        ,\n",
              "         0.        ],\n",
              "        [0.        , 0.        , 0.        , ..., 0.        , 0.        ,\n",
              "         0.        ],\n",
              "        ...,\n",
              "        [0.        , 0.        , 0.        , ..., 0.31413485, 0.        ,\n",
              "         0.        ],\n",
              "        [0.        , 0.        , 0.        , ..., 0.        , 0.        ,\n",
              "         0.        ],\n",
              "        [0.        , 0.        , 0.        , ..., 0.        , 0.        ,\n",
              "         0.        ]])"
            ]
          },
          "execution_count": 177,
          "metadata": {},
          "output_type": "execute_result"
        }
      ],
      "source": [
        "# Convert TF-IDF vector in matrix form with todense() function\n",
        "tfidf_matrix.todense()"
      ]
    },
    {
      "cell_type": "code",
      "execution_count": 178,
      "metadata": {
        "colab": {
          "base_uri": "https://localhost:8080/",
          "height": 1000
        },
        "id": "UYPC7a3eCbZT",
        "outputId": "744164b3-7eb4-4a48-da85-f8886d770383"
      },
      "outputs": [
        {
          "data": {
            "text/html": [
              "<div>\n",
              "<style scoped>\n",
              "    .dataframe tbody tr th:only-of-type {\n",
              "        vertical-align: middle;\n",
              "    }\n",
              "\n",
              "    .dataframe tbody tr th {\n",
              "        vertical-align: top;\n",
              "    }\n",
              "\n",
              "    .dataframe thead th {\n",
              "        text-align: right;\n",
              "    }\n",
              "</style>\n",
              "<table border=\"1\" class=\"dataframe\">\n",
              "  <thead>\n",
              "    <tr style=\"text-align: right;\">\n",
              "      <th></th>\n",
              "      <th>including</th>\n",
              "      <th>for</th>\n",
              "      <th>lines</th>\n",
              "      <th>need</th>\n",
              "      <th>dark</th>\n",
              "      <th>acne</th>\n",
              "      <th>ingredients</th>\n",
              "      <th>tone</th>\n",
              "      <th>helps</th>\n",
              "      <th>jawline</th>\n",
              "      <th>...</th>\n",
              "      <th>promoting</th>\n",
              "      <th>wing</th>\n",
              "      <th>glides</th>\n",
              "      <th>blemishes</th>\n",
              "      <th>of</th>\n",
              "      <th>scalloped</th>\n",
              "      <th>planet</th>\n",
              "      <th>edges</th>\n",
              "      <th>beauty</th>\n",
              "      <th>elasticity</th>\n",
              "    </tr>\n",
              "    <tr>\n",
              "      <th>product_name</th>\n",
              "      <th></th>\n",
              "      <th></th>\n",
              "      <th></th>\n",
              "      <th></th>\n",
              "      <th></th>\n",
              "      <th></th>\n",
              "      <th></th>\n",
              "      <th></th>\n",
              "      <th></th>\n",
              "      <th></th>\n",
              "      <th></th>\n",
              "      <th></th>\n",
              "      <th></th>\n",
              "      <th></th>\n",
              "      <th></th>\n",
              "      <th></th>\n",
              "      <th></th>\n",
              "      <th></th>\n",
              "      <th></th>\n",
              "      <th></th>\n",
              "      <th></th>\n",
              "    </tr>\n",
              "  </thead>\n",
              "  <tbody>\n",
              "    <tr>\n",
              "      <th>Mini Water Drench ® Hyaluronic Hydrating Moisturizer SPF 45</th>\n",
              "      <td>0.0</td>\n",
              "      <td>0.0</td>\n",
              "      <td>0.488330</td>\n",
              "      <td>0.0</td>\n",
              "      <td>0.0</td>\n",
              "      <td>0.000000</td>\n",
              "      <td>0.0</td>\n",
              "      <td>0.0</td>\n",
              "      <td>0.0</td>\n",
              "      <td>0.0</td>\n",
              "      <td>...</td>\n",
              "      <td>0.0</td>\n",
              "      <td>0.0</td>\n",
              "      <td>0.0</td>\n",
              "      <td>0.000000</td>\n",
              "      <td>0.00000</td>\n",
              "      <td>0.0</td>\n",
              "      <td>0.0</td>\n",
              "      <td>0.0</td>\n",
              "      <td>0.0</td>\n",
              "      <td>0.000000</td>\n",
              "    </tr>\n",
              "    <tr>\n",
              "      <th>Rose Face Mask</th>\n",
              "      <td>0.0</td>\n",
              "      <td>0.0</td>\n",
              "      <td>0.000000</td>\n",
              "      <td>0.0</td>\n",
              "      <td>0.0</td>\n",
              "      <td>0.000000</td>\n",
              "      <td>0.0</td>\n",
              "      <td>0.0</td>\n",
              "      <td>0.0</td>\n",
              "      <td>0.0</td>\n",
              "      <td>...</td>\n",
              "      <td>0.0</td>\n",
              "      <td>0.0</td>\n",
              "      <td>0.0</td>\n",
              "      <td>0.000000</td>\n",
              "      <td>0.00000</td>\n",
              "      <td>0.0</td>\n",
              "      <td>0.0</td>\n",
              "      <td>0.0</td>\n",
              "      <td>0.0</td>\n",
              "      <td>0.000000</td>\n",
              "    </tr>\n",
              "    <tr>\n",
              "      <th>Floral Recovery Overnight Mask with Squalane</th>\n",
              "      <td>0.0</td>\n",
              "      <td>0.0</td>\n",
              "      <td>0.000000</td>\n",
              "      <td>0.0</td>\n",
              "      <td>0.0</td>\n",
              "      <td>0.000000</td>\n",
              "      <td>0.0</td>\n",
              "      <td>0.0</td>\n",
              "      <td>0.0</td>\n",
              "      <td>0.0</td>\n",
              "      <td>...</td>\n",
              "      <td>0.0</td>\n",
              "      <td>0.0</td>\n",
              "      <td>0.0</td>\n",
              "      <td>0.000000</td>\n",
              "      <td>0.00000</td>\n",
              "      <td>0.0</td>\n",
              "      <td>0.0</td>\n",
              "      <td>0.0</td>\n",
              "      <td>0.0</td>\n",
              "      <td>0.000000</td>\n",
              "    </tr>\n",
              "    <tr>\n",
              "      <th>Salicylic Acid Acne + Blackhead Cleanser</th>\n",
              "      <td>0.0</td>\n",
              "      <td>0.0</td>\n",
              "      <td>0.000000</td>\n",
              "      <td>0.0</td>\n",
              "      <td>0.0</td>\n",
              "      <td>0.529138</td>\n",
              "      <td>0.0</td>\n",
              "      <td>0.0</td>\n",
              "      <td>0.0</td>\n",
              "      <td>0.0</td>\n",
              "      <td>...</td>\n",
              "      <td>0.0</td>\n",
              "      <td>0.0</td>\n",
              "      <td>0.0</td>\n",
              "      <td>0.516281</td>\n",
              "      <td>0.00000</td>\n",
              "      <td>0.0</td>\n",
              "      <td>0.0</td>\n",
              "      <td>0.0</td>\n",
              "      <td>0.0</td>\n",
              "      <td>0.000000</td>\n",
              "    </tr>\n",
              "    <tr>\n",
              "      <th>The Micro Peel</th>\n",
              "      <td>0.0</td>\n",
              "      <td>0.0</td>\n",
              "      <td>0.000000</td>\n",
              "      <td>0.0</td>\n",
              "      <td>0.0</td>\n",
              "      <td>0.000000</td>\n",
              "      <td>0.0</td>\n",
              "      <td>0.0</td>\n",
              "      <td>0.0</td>\n",
              "      <td>0.0</td>\n",
              "      <td>...</td>\n",
              "      <td>0.0</td>\n",
              "      <td>0.0</td>\n",
              "      <td>0.0</td>\n",
              "      <td>0.000000</td>\n",
              "      <td>0.00000</td>\n",
              "      <td>0.0</td>\n",
              "      <td>0.0</td>\n",
              "      <td>0.0</td>\n",
              "      <td>0.0</td>\n",
              "      <td>0.000000</td>\n",
              "    </tr>\n",
              "    <tr>\n",
              "      <th>Mini Moisture Surge™ Broad Spectrum SPF 28 Sheer Hydrator Moisturizer</th>\n",
              "      <td>0.0</td>\n",
              "      <td>0.0</td>\n",
              "      <td>0.000000</td>\n",
              "      <td>0.0</td>\n",
              "      <td>0.0</td>\n",
              "      <td>0.000000</td>\n",
              "      <td>0.0</td>\n",
              "      <td>0.0</td>\n",
              "      <td>0.0</td>\n",
              "      <td>0.0</td>\n",
              "      <td>...</td>\n",
              "      <td>0.0</td>\n",
              "      <td>0.0</td>\n",
              "      <td>0.0</td>\n",
              "      <td>0.000000</td>\n",
              "      <td>0.00000</td>\n",
              "      <td>0.0</td>\n",
              "      <td>0.0</td>\n",
              "      <td>0.0</td>\n",
              "      <td>0.0</td>\n",
              "      <td>0.000000</td>\n",
              "    </tr>\n",
              "    <tr>\n",
              "      <th>Plump + Hydrate Duo</th>\n",
              "      <td>0.0</td>\n",
              "      <td>0.0</td>\n",
              "      <td>0.000000</td>\n",
              "      <td>0.0</td>\n",
              "      <td>0.0</td>\n",
              "      <td>0.000000</td>\n",
              "      <td>0.0</td>\n",
              "      <td>0.0</td>\n",
              "      <td>0.0</td>\n",
              "      <td>0.0</td>\n",
              "      <td>...</td>\n",
              "      <td>0.0</td>\n",
              "      <td>0.0</td>\n",
              "      <td>0.0</td>\n",
              "      <td>0.000000</td>\n",
              "      <td>0.41307</td>\n",
              "      <td>0.0</td>\n",
              "      <td>0.0</td>\n",
              "      <td>0.0</td>\n",
              "      <td>0.0</td>\n",
              "      <td>0.411767</td>\n",
              "    </tr>\n",
              "    <tr>\n",
              "      <th>High Performance Face Serum with Vitamin C and Hyaluronic Acid \\t\\t\\t\\t\\t\\t</th>\n",
              "      <td>0.0</td>\n",
              "      <td>0.0</td>\n",
              "      <td>0.266884</td>\n",
              "      <td>0.0</td>\n",
              "      <td>0.0</td>\n",
              "      <td>0.000000</td>\n",
              "      <td>0.0</td>\n",
              "      <td>0.0</td>\n",
              "      <td>0.0</td>\n",
              "      <td>0.0</td>\n",
              "      <td>...</td>\n",
              "      <td>0.0</td>\n",
              "      <td>0.0</td>\n",
              "      <td>0.0</td>\n",
              "      <td>0.000000</td>\n",
              "      <td>0.35004</td>\n",
              "      <td>0.0</td>\n",
              "      <td>0.0</td>\n",
              "      <td>0.0</td>\n",
              "      <td>0.0</td>\n",
              "      <td>0.348935</td>\n",
              "    </tr>\n",
              "    <tr>\n",
              "      <th>Blur + Smooth Duo</th>\n",
              "      <td>0.0</td>\n",
              "      <td>0.0</td>\n",
              "      <td>0.000000</td>\n",
              "      <td>0.0</td>\n",
              "      <td>0.0</td>\n",
              "      <td>0.000000</td>\n",
              "      <td>0.0</td>\n",
              "      <td>0.0</td>\n",
              "      <td>0.0</td>\n",
              "      <td>0.0</td>\n",
              "      <td>...</td>\n",
              "      <td>0.0</td>\n",
              "      <td>0.0</td>\n",
              "      <td>0.0</td>\n",
              "      <td>0.000000</td>\n",
              "      <td>0.00000</td>\n",
              "      <td>0.0</td>\n",
              "      <td>0.0</td>\n",
              "      <td>0.0</td>\n",
              "      <td>0.0</td>\n",
              "      <td>0.000000</td>\n",
              "    </tr>\n",
              "    <tr>\n",
              "      <th>Smart Clinical Repair™ Wrinkle Correcting Serum</th>\n",
              "      <td>0.0</td>\n",
              "      <td>0.0</td>\n",
              "      <td>0.436418</td>\n",
              "      <td>0.0</td>\n",
              "      <td>0.0</td>\n",
              "      <td>0.000000</td>\n",
              "      <td>0.0</td>\n",
              "      <td>0.0</td>\n",
              "      <td>0.0</td>\n",
              "      <td>0.0</td>\n",
              "      <td>...</td>\n",
              "      <td>0.0</td>\n",
              "      <td>0.0</td>\n",
              "      <td>0.0</td>\n",
              "      <td>0.000000</td>\n",
              "      <td>0.00000</td>\n",
              "      <td>0.0</td>\n",
              "      <td>0.0</td>\n",
              "      <td>0.0</td>\n",
              "      <td>0.0</td>\n",
              "      <td>0.000000</td>\n",
              "    </tr>\n",
              "  </tbody>\n",
              "</table>\n",
              "<p>10 rows × 116 columns</p>\n",
              "</div>"
            ],
            "text/plain": [
              "                                                    including  for     lines  \\\n",
              "product_name                                                                   \n",
              "Mini Water Drench ® Hyaluronic Hydrating Moistu...        0.0  0.0  0.488330   \n",
              "Rose Face Mask                                            0.0  0.0  0.000000   \n",
              "Floral Recovery Overnight Mask with Squalane              0.0  0.0  0.000000   \n",
              "Salicylic Acid Acne + Blackhead Cleanser                  0.0  0.0  0.000000   \n",
              "The Micro Peel                                            0.0  0.0  0.000000   \n",
              "Mini Moisture Surge™ Broad Spectrum SPF 28 Shee...        0.0  0.0  0.000000   \n",
              "Plump + Hydrate Duo                                       0.0  0.0  0.000000   \n",
              "High Performance Face Serum with Vitamin C and ...        0.0  0.0  0.266884   \n",
              "Blur + Smooth Duo                                         0.0  0.0  0.000000   \n",
              "Smart Clinical Repair™ Wrinkle Correcting Serum           0.0  0.0  0.436418   \n",
              "\n",
              "                                                    need  dark      acne  \\\n",
              "product_name                                                               \n",
              "Mini Water Drench ® Hyaluronic Hydrating Moistu...   0.0   0.0  0.000000   \n",
              "Rose Face Mask                                       0.0   0.0  0.000000   \n",
              "Floral Recovery Overnight Mask with Squalane         0.0   0.0  0.000000   \n",
              "Salicylic Acid Acne + Blackhead Cleanser             0.0   0.0  0.529138   \n",
              "The Micro Peel                                       0.0   0.0  0.000000   \n",
              "Mini Moisture Surge™ Broad Spectrum SPF 28 Shee...   0.0   0.0  0.000000   \n",
              "Plump + Hydrate Duo                                  0.0   0.0  0.000000   \n",
              "High Performance Face Serum with Vitamin C and ...   0.0   0.0  0.000000   \n",
              "Blur + Smooth Duo                                    0.0   0.0  0.000000   \n",
              "Smart Clinical Repair™ Wrinkle Correcting Serum      0.0   0.0  0.000000   \n",
              "\n",
              "                                                    ingredients  tone  helps  \\\n",
              "product_name                                                                   \n",
              "Mini Water Drench ® Hyaluronic Hydrating Moistu...          0.0   0.0    0.0   \n",
              "Rose Face Mask                                              0.0   0.0    0.0   \n",
              "Floral Recovery Overnight Mask with Squalane                0.0   0.0    0.0   \n",
              "Salicylic Acid Acne + Blackhead Cleanser                    0.0   0.0    0.0   \n",
              "The Micro Peel                                              0.0   0.0    0.0   \n",
              "Mini Moisture Surge™ Broad Spectrum SPF 28 Shee...          0.0   0.0    0.0   \n",
              "Plump + Hydrate Duo                                         0.0   0.0    0.0   \n",
              "High Performance Face Serum with Vitamin C and ...          0.0   0.0    0.0   \n",
              "Blur + Smooth Duo                                           0.0   0.0    0.0   \n",
              "Smart Clinical Repair™ Wrinkle Correcting Serum             0.0   0.0    0.0   \n",
              "\n",
              "                                                    jawline  ...  promoting  \\\n",
              "product_name                                                 ...              \n",
              "Mini Water Drench ® Hyaluronic Hydrating Moistu...      0.0  ...        0.0   \n",
              "Rose Face Mask                                          0.0  ...        0.0   \n",
              "Floral Recovery Overnight Mask with Squalane            0.0  ...        0.0   \n",
              "Salicylic Acid Acne + Blackhead Cleanser                0.0  ...        0.0   \n",
              "The Micro Peel                                          0.0  ...        0.0   \n",
              "Mini Moisture Surge™ Broad Spectrum SPF 28 Shee...      0.0  ...        0.0   \n",
              "Plump + Hydrate Duo                                     0.0  ...        0.0   \n",
              "High Performance Face Serum with Vitamin C and ...      0.0  ...        0.0   \n",
              "Blur + Smooth Duo                                       0.0  ...        0.0   \n",
              "Smart Clinical Repair™ Wrinkle Correcting Serum         0.0  ...        0.0   \n",
              "\n",
              "                                                    wing  glides  blemishes  \\\n",
              "product_name                                                                  \n",
              "Mini Water Drench ® Hyaluronic Hydrating Moistu...   0.0     0.0   0.000000   \n",
              "Rose Face Mask                                       0.0     0.0   0.000000   \n",
              "Floral Recovery Overnight Mask with Squalane         0.0     0.0   0.000000   \n",
              "Salicylic Acid Acne + Blackhead Cleanser             0.0     0.0   0.516281   \n",
              "The Micro Peel                                       0.0     0.0   0.000000   \n",
              "Mini Moisture Surge™ Broad Spectrum SPF 28 Shee...   0.0     0.0   0.000000   \n",
              "Plump + Hydrate Duo                                  0.0     0.0   0.000000   \n",
              "High Performance Face Serum with Vitamin C and ...   0.0     0.0   0.000000   \n",
              "Blur + Smooth Duo                                    0.0     0.0   0.000000   \n",
              "Smart Clinical Repair™ Wrinkle Correcting Serum      0.0     0.0   0.000000   \n",
              "\n",
              "                                                         of  scalloped  \\\n",
              "product_name                                                             \n",
              "Mini Water Drench ® Hyaluronic Hydrating Moistu...  0.00000        0.0   \n",
              "Rose Face Mask                                      0.00000        0.0   \n",
              "Floral Recovery Overnight Mask with Squalane        0.00000        0.0   \n",
              "Salicylic Acid Acne + Blackhead Cleanser            0.00000        0.0   \n",
              "The Micro Peel                                      0.00000        0.0   \n",
              "Mini Moisture Surge™ Broad Spectrum SPF 28 Shee...  0.00000        0.0   \n",
              "Plump + Hydrate Duo                                 0.41307        0.0   \n",
              "High Performance Face Serum with Vitamin C and ...  0.35004        0.0   \n",
              "Blur + Smooth Duo                                   0.00000        0.0   \n",
              "Smart Clinical Repair™ Wrinkle Correcting Serum     0.00000        0.0   \n",
              "\n",
              "                                                    planet  edges  beauty  \\\n",
              "product_name                                                                \n",
              "Mini Water Drench ® Hyaluronic Hydrating Moistu...     0.0    0.0     0.0   \n",
              "Rose Face Mask                                         0.0    0.0     0.0   \n",
              "Floral Recovery Overnight Mask with Squalane           0.0    0.0     0.0   \n",
              "Salicylic Acid Acne + Blackhead Cleanser               0.0    0.0     0.0   \n",
              "The Micro Peel                                         0.0    0.0     0.0   \n",
              "Mini Moisture Surge™ Broad Spectrum SPF 28 Shee...     0.0    0.0     0.0   \n",
              "Plump + Hydrate Duo                                    0.0    0.0     0.0   \n",
              "High Performance Face Serum with Vitamin C and ...     0.0    0.0     0.0   \n",
              "Blur + Smooth Duo                                      0.0    0.0     0.0   \n",
              "Smart Clinical Repair™ Wrinkle Correcting Serum        0.0    0.0     0.0   \n",
              "\n",
              "                                                    elasticity  \n",
              "product_name                                                    \n",
              "Mini Water Drench ® Hyaluronic Hydrating Moistu...    0.000000  \n",
              "Rose Face Mask                                        0.000000  \n",
              "Floral Recovery Overnight Mask with Squalane          0.000000  \n",
              "Salicylic Acid Acne + Blackhead Cleanser              0.000000  \n",
              "The Micro Peel                                        0.000000  \n",
              "Mini Moisture Surge™ Broad Spectrum SPF 28 Shee...    0.000000  \n",
              "Plump + Hydrate Duo                                   0.411767  \n",
              "High Performance Face Serum with Vitamin C and ...    0.348935  \n",
              "Blur + Smooth Duo                                     0.000000  \n",
              "Smart Clinical Repair™ Wrinkle Correcting Serum       0.000000  \n",
              "\n",
              "[10 rows x 116 columns]"
            ]
          },
          "execution_count": 178,
          "metadata": {},
          "output_type": "execute_result"
        }
      ],
      "source": [
        "# Making dataframe to see TF-IDF matrix\n",
        "\n",
        "pd.DataFrame(\n",
        "    tfidf_matrix.todense(),\n",
        "    columns=tf.get_feature_names_out(),\n",
        "    index=skincare.product_name\n",
        ").sample(shape[1], axis=1).sample(10, axis=0)"
      ]
    },
    {
      "cell_type": "markdown",
      "metadata": {
        "id": "WEB-9QQ97Ohe"
      },
      "source": [
        "### Cosine Similarity"
      ]
    },
    {
      "cell_type": "code",
      "execution_count": 179,
      "metadata": {
        "colab": {
          "base_uri": "https://localhost:8080/"
        },
        "id": "9WopU7pexaPt",
        "outputId": "8eb95f6f-ae6f-4c0b-f2b3-692f6442f438"
      },
      "outputs": [
        {
          "data": {
            "text/plain": [
              "array([[1.        , 0.11085686, 0.5388721 , ..., 0.60986946, 0.39928888,\n",
              "        0.70229882],\n",
              "       [0.11085686, 1.        , 0.10275812, ..., 0.15303245, 0.08159412,\n",
              "        0.07785465],\n",
              "       [0.5388721 , 0.10275812, 1.        , ..., 0.38674348, 0.24055602,\n",
              "        0.37844924],\n",
              "       ...,\n",
              "       [0.60986946, 0.15303245, 0.38674348, ..., 1.        , 0.2939309 ,\n",
              "        0.76035342],\n",
              "       [0.39928888, 0.08159412, 0.24055602, ..., 0.2939309 , 1.        ,\n",
              "        0.28042011],\n",
              "       [0.70229882, 0.07785465, 0.37844924, ..., 0.76035342, 0.28042011,\n",
              "        1.        ]])"
            ]
          },
          "execution_count": 179,
          "metadata": {},
          "output_type": "execute_result"
        }
      ],
      "source": [
        "# Calculating Cosine Similarity on the TF-IDF matrix\n",
        "from sklearn.metrics.pairwise import cosine_similarity\n",
        "cosine_sim = cosine_similarity(tfidf_matrix)\n",
        "cosine_sim"
      ]
    },
    {
      "cell_type": "code",
      "execution_count": 180,
      "metadata": {
        "colab": {
          "base_uri": "https://localhost:8080/",
          "height": 481
        },
        "id": "t-sA5tvjDBaX",
        "outputId": "bcdfa5d9-a7e2-4c28-acfb-82bdc452e175"
      },
      "outputs": [
        {
          "data": {
            "text/html": [
              "<div>\n",
              "<style scoped>\n",
              "    .dataframe tbody tr th:only-of-type {\n",
              "        vertical-align: middle;\n",
              "    }\n",
              "\n",
              "    .dataframe tbody tr th {\n",
              "        vertical-align: top;\n",
              "    }\n",
              "\n",
              "    .dataframe thead th {\n",
              "        text-align: right;\n",
              "    }\n",
              "</style>\n",
              "<table border=\"1\" class=\"dataframe\">\n",
              "  <thead>\n",
              "    <tr style=\"text-align: right;\">\n",
              "      <th>product_name</th>\n",
              "      <th>Superfood Hydrating and Nourishing Facial Oil</th>\n",
              "      <th>Moisturizing Fig Body Oil Elixir</th>\n",
              "      <th>Pink Cloud Soft Moisture Cream</th>\n",
              "      <th>barrier+ Triple Lipid-Boost 360° Hydrating Eye Cream</th>\n",
              "      <th>All About Clean™ 2-in-1 Charcoal Face Mask + Scrub</th>\n",
              "    </tr>\n",
              "    <tr>\n",
              "      <th>product_name</th>\n",
              "      <th></th>\n",
              "      <th></th>\n",
              "      <th></th>\n",
              "      <th></th>\n",
              "      <th></th>\n",
              "    </tr>\n",
              "  </thead>\n",
              "  <tbody>\n",
              "    <tr>\n",
              "      <th>Brightening Active Roller with Vitamin C</th>\n",
              "      <td>0.181345</td>\n",
              "      <td>0.079369</td>\n",
              "      <td>0.230485</td>\n",
              "      <td>0.237817</td>\n",
              "      <td>0.045587</td>\n",
              "    </tr>\n",
              "    <tr>\n",
              "      <th>Clean Conscious Body Sunscreen Mist with Vitamin C SPF 30-50</th>\n",
              "      <td>0.662970</td>\n",
              "      <td>0.698163</td>\n",
              "      <td>0.508222</td>\n",
              "      <td>0.339843</td>\n",
              "      <td>0.116788</td>\n",
              "    </tr>\n",
              "    <tr>\n",
              "      <th>Enzyme Cleansing Gel</th>\n",
              "      <td>0.213874</td>\n",
              "      <td>0.093606</td>\n",
              "      <td>0.271828</td>\n",
              "      <td>0.075544</td>\n",
              "      <td>0.800001</td>\n",
              "    </tr>\n",
              "    <tr>\n",
              "      <th>Glowscreen Body Lotion SPF 40</th>\n",
              "      <td>0.378449</td>\n",
              "      <td>0.241716</td>\n",
              "      <td>0.480999</td>\n",
              "      <td>0.090009</td>\n",
              "      <td>0.468640</td>\n",
              "    </tr>\n",
              "    <tr>\n",
              "      <th>Pro-Collagen Naked Makeup Melting Cleansing Balm</th>\n",
              "      <td>0.355059</td>\n",
              "      <td>0.226776</td>\n",
              "      <td>0.451270</td>\n",
              "      <td>0.084446</td>\n",
              "      <td>0.060100</td>\n",
              "    </tr>\n",
              "    <tr>\n",
              "      <th>Liquid ExfoliKate® Triple Acid Resurfacing Treatment</th>\n",
              "      <td>0.140568</td>\n",
              "      <td>0.061522</td>\n",
              "      <td>0.178658</td>\n",
              "      <td>0.049651</td>\n",
              "      <td>0.423682</td>\n",
              "    </tr>\n",
              "    <tr>\n",
              "      <th>Super Anti-Aging Night Cream</th>\n",
              "      <td>0.828337</td>\n",
              "      <td>0.872309</td>\n",
              "      <td>0.640018</td>\n",
              "      <td>0.368861</td>\n",
              "      <td>0.108123</td>\n",
              "    </tr>\n",
              "    <tr>\n",
              "      <th>Vinoperfect Brightening Glycolic Peel Mask</th>\n",
              "      <td>0.187938</td>\n",
              "      <td>0.082254</td>\n",
              "      <td>0.238864</td>\n",
              "      <td>0.246463</td>\n",
              "      <td>0.345630</td>\n",
              "    </tr>\n",
              "    <tr>\n",
              "      <th>Volcanic BHA Pore Cleansing Foam</th>\n",
              "      <td>0.084550</td>\n",
              "      <td>0.089038</td>\n",
              "      <td>0.107460</td>\n",
              "      <td>0.071858</td>\n",
              "      <td>1.000000</td>\n",
              "    </tr>\n",
              "    <tr>\n",
              "      <th>Nude Glow Peptide Serum</th>\n",
              "      <td>0.378449</td>\n",
              "      <td>0.241716</td>\n",
              "      <td>0.480999</td>\n",
              "      <td>0.090009</td>\n",
              "      <td>0.468640</td>\n",
              "    </tr>\n",
              "  </tbody>\n",
              "</table>\n",
              "</div>"
            ],
            "text/plain": [
              "product_name                                        Superfood Hydrating and Nourishing Facial Oil  \\\n",
              "product_name                                                                                        \n",
              "Brightening Active Roller with Vitamin C                                                 0.181345   \n",
              "Clean Conscious Body Sunscreen Mist with Vitami...                                       0.662970   \n",
              "Enzyme Cleansing Gel                                                                     0.213874   \n",
              "Glowscreen Body Lotion SPF 40                                                            0.378449   \n",
              "Pro-Collagen Naked Makeup Melting Cleansing Balm                                         0.355059   \n",
              "Liquid ExfoliKate® Triple Acid Resurfacing Trea...                                       0.140568   \n",
              "Super Anti-Aging Night Cream                                                             0.828337   \n",
              "Vinoperfect Brightening Glycolic Peel Mask                                               0.187938   \n",
              "Volcanic BHA Pore Cleansing Foam                                                         0.084550   \n",
              "Nude Glow Peptide Serum                                                                  0.378449   \n",
              "\n",
              "product_name                                        Moisturizing Fig Body Oil Elixir  \\\n",
              "product_name                                                                           \n",
              "Brightening Active Roller with Vitamin C                                    0.079369   \n",
              "Clean Conscious Body Sunscreen Mist with Vitami...                          0.698163   \n",
              "Enzyme Cleansing Gel                                                        0.093606   \n",
              "Glowscreen Body Lotion SPF 40                                               0.241716   \n",
              "Pro-Collagen Naked Makeup Melting Cleansing Balm                            0.226776   \n",
              "Liquid ExfoliKate® Triple Acid Resurfacing Trea...                          0.061522   \n",
              "Super Anti-Aging Night Cream                                                0.872309   \n",
              "Vinoperfect Brightening Glycolic Peel Mask                                  0.082254   \n",
              "Volcanic BHA Pore Cleansing Foam                                            0.089038   \n",
              "Nude Glow Peptide Serum                                                     0.241716   \n",
              "\n",
              "product_name                                        Pink Cloud Soft Moisture Cream  \\\n",
              "product_name                                                                         \n",
              "Brightening Active Roller with Vitamin C                                  0.230485   \n",
              "Clean Conscious Body Sunscreen Mist with Vitami...                        0.508222   \n",
              "Enzyme Cleansing Gel                                                      0.271828   \n",
              "Glowscreen Body Lotion SPF 40                                             0.480999   \n",
              "Pro-Collagen Naked Makeup Melting Cleansing Balm                          0.451270   \n",
              "Liquid ExfoliKate® Triple Acid Resurfacing Trea...                        0.178658   \n",
              "Super Anti-Aging Night Cream                                              0.640018   \n",
              "Vinoperfect Brightening Glycolic Peel Mask                                0.238864   \n",
              "Volcanic BHA Pore Cleansing Foam                                          0.107460   \n",
              "Nude Glow Peptide Serum                                                   0.480999   \n",
              "\n",
              "product_name                                        barrier+ Triple Lipid-Boost 360° Hydrating Eye Cream  \\\n",
              "product_name                                                                                               \n",
              "Brightening Active Roller with Vitamin C                                                     0.237817      \n",
              "Clean Conscious Body Sunscreen Mist with Vitami...                                           0.339843      \n",
              "Enzyme Cleansing Gel                                                                         0.075544      \n",
              "Glowscreen Body Lotion SPF 40                                                                0.090009      \n",
              "Pro-Collagen Naked Makeup Melting Cleansing Balm                                             0.084446      \n",
              "Liquid ExfoliKate® Triple Acid Resurfacing Trea...                                           0.049651      \n",
              "Super Anti-Aging Night Cream                                                                 0.368861      \n",
              "Vinoperfect Brightening Glycolic Peel Mask                                                   0.246463      \n",
              "Volcanic BHA Pore Cleansing Foam                                                             0.071858      \n",
              "Nude Glow Peptide Serum                                                                      0.090009      \n",
              "\n",
              "product_name                                        All About Clean™ 2-in-1 Charcoal Face Mask + Scrub  \n",
              "product_name                                                                                            \n",
              "Brightening Active Roller with Vitamin C                                                     0.045587   \n",
              "Clean Conscious Body Sunscreen Mist with Vitami...                                           0.116788   \n",
              "Enzyme Cleansing Gel                                                                         0.800001   \n",
              "Glowscreen Body Lotion SPF 40                                                                0.468640   \n",
              "Pro-Collagen Naked Makeup Melting Cleansing Balm                                             0.060100   \n",
              "Liquid ExfoliKate® Triple Acid Resurfacing Trea...                                           0.423682   \n",
              "Super Anti-Aging Night Cream                                                                 0.108123   \n",
              "Vinoperfect Brightening Glycolic Peel Mask                                                   0.345630   \n",
              "Volcanic BHA Pore Cleansing Foam                                                             1.000000   \n",
              "Nude Glow Peptide Serum                                                                      0.468640   "
            ]
          },
          "execution_count": 180,
          "metadata": {},
          "output_type": "execute_result"
        }
      ],
      "source": [
        "# Creating a dataframe from the cosine_similarity variable with rows and columns in the form of product names\n",
        "cosine_sim_df = pd.DataFrame(cosine_sim, index=skincare['product_name'], columns=skincare['product_name'])\n",
        "\n",
        "# See the similarity matrix for each product\n",
        "cosine_sim_df.sample(5, axis=1).sample(10, axis=0)"
      ]
    },
    {
      "cell_type": "markdown",
      "metadata": {
        "id": "kTTfgn5f7Ohi"
      },
      "source": [
        "### Getting Recommendation"
      ]
    },
    {
      "cell_type": "code",
      "execution_count": 181,
      "metadata": {
        "id": "h7C_-X2nDbDz"
      },
      "outputs": [],
      "source": [
        "def skincare_recommendations(nama, similarity_data=cosine_sim_df, items=skincare[['product_name', 'notable_effects']], k=5):\n",
        "\n",
        "    # Retrieve data by using argpartition to partition indirectly along a given axis\n",
        "    # Dataframe converted to be numpy\n",
        "    # Range(start, stop, step)\n",
        "    index = similarity_data.loc[:,nama].to_numpy().argpartition(\n",
        "        range(-1, -k, -1))\n",
        "\n",
        "    # Retrieve data with the greatest similarity from the existing index\n",
        "    closest = similarity_data.columns[index[-1:-(k+2):-1]]\n",
        "\n",
        "    # Drop a name so that the name of the product we are looking for doesnt' appear in the list of recommendations\n",
        "    closest = closest.drop(nama, errors='ignore')\n",
        "\n",
        "    return pd.DataFrame(closest).merge(items).head(k)"
      ]
    }
  ],
  "metadata": {
    "colab": {
      "provenance": []
    },
    "kernelspec": {
      "display_name": "Python 3",
      "name": "python3"
    },
    "language_info": {
      "codemirror_mode": {
        "name": "ipython",
        "version": 3
      },
      "file_extension": ".py",
      "mimetype": "text/x-python",
      "name": "python",
      "nbconvert_exporter": "python",
      "pygments_lexer": "ipython3",
      "version": "3.9.6"
    }
  },
  "nbformat": 4,
  "nbformat_minor": 0
}
